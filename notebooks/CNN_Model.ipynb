{
  "cells": [
    {
      "cell_type": "code",
      "execution_count": 1,
      "metadata": {
        "colab": {
          "base_uri": "https://localhost:8080/"
        },
        "id": "58nKvT57kaUK",
        "outputId": "1b6301df-a855-4756-ecda-d16be7d7223a"
      },
      "outputs": [
        {
          "output_type": "stream",
          "name": "stdout",
          "text": [
            "Collecting torchviz\n",
            "  Downloading torchviz-0.0.2.tar.gz (4.9 kB)\n",
            "  Preparing metadata (setup.py) ... \u001b[?25l\u001b[?25hdone\n",
            "Requirement already satisfied: torch in /usr/local/lib/python3.10/dist-packages (from torchviz) (2.2.1+cu121)\n",
            "Requirement already satisfied: graphviz in /usr/local/lib/python3.10/dist-packages (from torchviz) (0.20.3)\n",
            "Requirement already satisfied: filelock in /usr/local/lib/python3.10/dist-packages (from torch->torchviz) (3.13.4)\n",
            "Requirement already satisfied: typing-extensions>=4.8.0 in /usr/local/lib/python3.10/dist-packages (from torch->torchviz) (4.11.0)\n",
            "Requirement already satisfied: sympy in /usr/local/lib/python3.10/dist-packages (from torch->torchviz) (1.12)\n",
            "Requirement already satisfied: networkx in /usr/local/lib/python3.10/dist-packages (from torch->torchviz) (3.3)\n",
            "Requirement already satisfied: jinja2 in /usr/local/lib/python3.10/dist-packages (from torch->torchviz) (3.1.3)\n",
            "Requirement already satisfied: fsspec in /usr/local/lib/python3.10/dist-packages (from torch->torchviz) (2023.6.0)\n",
            "Collecting nvidia-cuda-nvrtc-cu12==12.1.105 (from torch->torchviz)\n",
            "  Using cached nvidia_cuda_nvrtc_cu12-12.1.105-py3-none-manylinux1_x86_64.whl (23.7 MB)\n",
            "Collecting nvidia-cuda-runtime-cu12==12.1.105 (from torch->torchviz)\n",
            "  Using cached nvidia_cuda_runtime_cu12-12.1.105-py3-none-manylinux1_x86_64.whl (823 kB)\n",
            "Collecting nvidia-cuda-cupti-cu12==12.1.105 (from torch->torchviz)\n",
            "  Using cached nvidia_cuda_cupti_cu12-12.1.105-py3-none-manylinux1_x86_64.whl (14.1 MB)\n",
            "Collecting nvidia-cudnn-cu12==8.9.2.26 (from torch->torchviz)\n",
            "  Using cached nvidia_cudnn_cu12-8.9.2.26-py3-none-manylinux1_x86_64.whl (731.7 MB)\n",
            "Collecting nvidia-cublas-cu12==12.1.3.1 (from torch->torchviz)\n",
            "  Using cached nvidia_cublas_cu12-12.1.3.1-py3-none-manylinux1_x86_64.whl (410.6 MB)\n",
            "Collecting nvidia-cufft-cu12==11.0.2.54 (from torch->torchviz)\n",
            "  Using cached nvidia_cufft_cu12-11.0.2.54-py3-none-manylinux1_x86_64.whl (121.6 MB)\n",
            "Collecting nvidia-curand-cu12==10.3.2.106 (from torch->torchviz)\n",
            "  Using cached nvidia_curand_cu12-10.3.2.106-py3-none-manylinux1_x86_64.whl (56.5 MB)\n",
            "Collecting nvidia-cusolver-cu12==11.4.5.107 (from torch->torchviz)\n",
            "  Using cached nvidia_cusolver_cu12-11.4.5.107-py3-none-manylinux1_x86_64.whl (124.2 MB)\n",
            "Collecting nvidia-cusparse-cu12==12.1.0.106 (from torch->torchviz)\n",
            "  Using cached nvidia_cusparse_cu12-12.1.0.106-py3-none-manylinux1_x86_64.whl (196.0 MB)\n",
            "Collecting nvidia-nccl-cu12==2.19.3 (from torch->torchviz)\n",
            "  Using cached nvidia_nccl_cu12-2.19.3-py3-none-manylinux1_x86_64.whl (166.0 MB)\n",
            "Collecting nvidia-nvtx-cu12==12.1.105 (from torch->torchviz)\n",
            "  Using cached nvidia_nvtx_cu12-12.1.105-py3-none-manylinux1_x86_64.whl (99 kB)\n",
            "Requirement already satisfied: triton==2.2.0 in /usr/local/lib/python3.10/dist-packages (from torch->torchviz) (2.2.0)\n",
            "Collecting nvidia-nvjitlink-cu12 (from nvidia-cusolver-cu12==11.4.5.107->torch->torchviz)\n",
            "  Using cached nvidia_nvjitlink_cu12-12.4.127-py3-none-manylinux2014_x86_64.whl (21.1 MB)\n",
            "Requirement already satisfied: MarkupSafe>=2.0 in /usr/local/lib/python3.10/dist-packages (from jinja2->torch->torchviz) (2.1.5)\n",
            "Requirement already satisfied: mpmath>=0.19 in /usr/local/lib/python3.10/dist-packages (from sympy->torch->torchviz) (1.3.0)\n",
            "Building wheels for collected packages: torchviz\n",
            "  Building wheel for torchviz (setup.py) ... \u001b[?25l\u001b[?25hdone\n",
            "  Created wheel for torchviz: filename=torchviz-0.0.2-py3-none-any.whl size=4132 sha256=17b2b0e16da2cb7c02c0697216a58d0660e35b02fa8976cc9ce90c762860b0aa\n",
            "  Stored in directory: /root/.cache/pip/wheels/4c/97/88/a02973217949e0db0c9f4346d154085f4725f99c4f15a87094\n",
            "Successfully built torchviz\n",
            "Installing collected packages: nvidia-nvtx-cu12, nvidia-nvjitlink-cu12, nvidia-nccl-cu12, nvidia-curand-cu12, nvidia-cufft-cu12, nvidia-cuda-runtime-cu12, nvidia-cuda-nvrtc-cu12, nvidia-cuda-cupti-cu12, nvidia-cublas-cu12, nvidia-cusparse-cu12, nvidia-cudnn-cu12, nvidia-cusolver-cu12, torchviz\n",
            "Successfully installed nvidia-cublas-cu12-12.1.3.1 nvidia-cuda-cupti-cu12-12.1.105 nvidia-cuda-nvrtc-cu12-12.1.105 nvidia-cuda-runtime-cu12-12.1.105 nvidia-cudnn-cu12-8.9.2.26 nvidia-cufft-cu12-11.0.2.54 nvidia-curand-cu12-10.3.2.106 nvidia-cusolver-cu12-11.4.5.107 nvidia-cusparse-cu12-12.1.0.106 nvidia-nccl-cu12-2.19.3 nvidia-nvjitlink-cu12-12.4.127 nvidia-nvtx-cu12-12.1.105 torchviz-0.0.2\n"
          ]
        }
      ],
      "source": [
        "import requests\n",
        "from io import BytesIO\n",
        "from zipfile import ZipFile\n",
        "import torch\n",
        "import torchvision\n",
        "from torchvision import datasets, transforms\n",
        "import matplotlib.pyplot as plt\n",
        "import numpy as np\n",
        "import torch.nn as nn\n",
        "import torch.nn.functional as F\n",
        "from torchsummary import summary\n",
        "from torch import optim\n",
        "from torch.optim.lr_scheduler import ReduceLROnPlateau\n",
        "import copy\n",
        "from tqdm.notebook import tqdm\n",
        "import seaborn as sns\n",
        "from sklearn.metrics import classification_report\n",
        "!pip install torchviz\n",
        "from torchviz import make_dot\n"
      ]
    },
    {
      "cell_type": "markdown",
      "metadata": {
        "id": "y9Bg1Sjz801Z"
      },
      "source": [
        "## Download the Dataset"
      ]
    },
    {
      "cell_type": "code",
      "execution_count": 2,
      "metadata": {
        "id": "4G0cvY55nnYv"
      },
      "outputs": [],
      "source": [
        "#Download the Dataset\n",
        "\n",
        "dataset_link = 'https://universe.roboflow.com/ds/34oBZCp0Y9?key=M2AxU6iuig'\n",
        "response = requests.get(dataset_link)\n",
        "zip_file = ZipFile(BytesIO(response.content))\n",
        "\n",
        "extracted_folder = '/dataset'\n",
        "zip_file.extractall(extracted_folder)"
      ]
    },
    {
      "cell_type": "markdown",
      "metadata": {
        "id": "Z6ZroeX09LQf"
      },
      "source": [
        "## Pre-processing Dataset\n",
        "\n",
        "\n"
      ]
    },
    {
      "cell_type": "code",
      "execution_count": 3,
      "metadata": {
        "id": "4XBiQYENuWQi"
      },
      "outputs": [],
      "source": [
        "transform_train = transforms.Compose(\n",
        "    [\n",
        "        transforms.Resize((224,224)),\n",
        "        # using such random flips, helps to increase variability in your training data, which can prevent overfitting and improve the model's ability to generalize to unseen data\n",
        "        transforms.RandomHorizontalFlip(p=0.5),\n",
        "        transforms.RandomVerticalFlip(p=0.5),\n",
        "        transforms.RandomRotation(30),\n",
        "        transforms.ToTensor(),\n",
        "        transforms.Normalize(mean = [0.485, 0.456, 0.406],std = [0.229, 0.224, 0.225])\n",
        "   ]\n",
        ")\n",
        "\n",
        "transform_test = transforms.Compose(\n",
        "    [\n",
        "         #all the images are currently 224 pixels but we can rezie later according to model accuracy to see if it makes any difference\n",
        "        transforms.Resize((224,224)),\n",
        "        transforms.ToTensor(),\n",
        "        transforms.Normalize(mean = [0.485, 0.456, 0.406],std = [0.229, 0.224, 0.225])\n",
        "   ]\n",
        ")"
      ]
    },
    {
      "cell_type": "code",
      "execution_count": 4,
      "metadata": {
        "colab": {
          "base_uri": "https://localhost:8080/"
        },
        "id": "L19Jm8Hyt3Wu",
        "outputId": "714032bb-7cab-4486-bea5-fdd9115e4007"
      },
      "outputs": [
        {
          "output_type": "execute_result",
          "data": {
            "text/plain": [
              "Compose(\n",
              "    Resize(size=(224, 224), interpolation=bilinear, max_size=None, antialias=True)\n",
              "    ToTensor()\n",
              "    Normalize(mean=[0.485, 0.456, 0.406], std=[0.229, 0.224, 0.225])\n",
              ")"
            ]
          },
          "metadata": {},
          "execution_count": 4
        }
      ],
      "source": [
        "# Define object of the Train, Validation, and Test dataset.\n",
        "\n",
        "train_dataset = torchvision.datasets.ImageFolder(\"/dataset/train\", transform=transform_train)\n",
        "train_dataset.transform\n",
        "\n",
        "val_dataset = torchvision.datasets.ImageFolder(\"/dataset/valid\", transform=transform_test)\n",
        "val_dataset.transform\n",
        "\n",
        "test_dataset = torchvision.datasets.ImageFolder(\"/dataset/test\", transform=transform_test)\n",
        "test_dataset.transform"
      ]
    },
    {
      "cell_type": "markdown",
      "metadata": {
        "id": "Fc_eFNIaA0ap"
      },
      "source": [
        "## Creating DataLoaders"
      ]
    },
    {
      "cell_type": "code",
      "execution_count": 5,
      "metadata": {
        "id": "CUybSc9EzNa6"
      },
      "outputs": [],
      "source": [
        "# train set has 2076 images so can use greater batch size but valid and test have 531 and 231 so must use smaller batch size or there will be overfitting\n",
        "train_loader = torch.utils.data.DataLoader(train_dataset, batch_size = 256, shuffle = True)\n",
        "val_loader = torch.utils.data.DataLoader(val_dataset, batch_size = 64, shuffle = True)\n",
        "test_loader = torch.utils.data.DataLoader(test_dataset, batch_size = 64, shuffle = True)"
      ]
    },
    {
      "cell_type": "code",
      "execution_count": 6,
      "metadata": {
        "colab": {
          "base_uri": "https://localhost:8080/"
        },
        "id": "B2WKOcbSz5XB",
        "outputId": "64bbeefa-0a26-4e41-e9cf-4d51b2d39769"
      },
      "outputs": [
        {
          "output_type": "stream",
          "name": "stdout",
          "text": [
            "Training data:\n",
            "Shape of X : torch.Size([256, 3, 224, 224])\n",
            "Shape of y: torch.Size([256]) torch.int64\n",
            "\n",
            "Validation data:\n",
            "Shape of X : torch.Size([64, 3, 224, 224])\n",
            "Shape of y: torch.Size([64]) torch.int64\n",
            "\n"
          ]
        }
      ],
      "source": [
        "# Print shape of Dataset\n",
        "for key, value in {'Training data': train_loader, \"Validation data\": val_loader}.items():\n",
        "    for X, y in value:\n",
        "        print(f\"{key}:\")\n",
        "        print(f\"Shape of X : {X.shape}\")\n",
        "        print(f\"Shape of y: {y.shape} {y.dtype}\\n\")\n",
        "        break"
      ]
    },
    {
      "cell_type": "markdown",
      "metadata": {
        "id": "i4M386IZA93v"
      },
      "source": [
        "## Model Architectures"
      ]
    },
    {
      "cell_type": "code",
      "source": [
        "def findConv2dOutShape(hin,win,conv,pool=2):\n",
        "    kernel_size = conv.kernel_size\n",
        "    stride=conv.stride\n",
        "    padding=conv.padding\n",
        "    dilation=conv.dilation\n",
        "\n",
        "    hout=np.floor((hin+2*padding[0]-dilation[0]*(kernel_size[0]-1)-1)/stride[0]+1)\n",
        "    wout=np.floor((win+2*padding[1]-dilation[1]*(kernel_size[1]-1)-1)/stride[1]+1)\n",
        "\n",
        "    if pool:\n",
        "        hout/=pool\n",
        "        wout/=pool\n",
        "    return int(hout),int(wout)"
      ],
      "metadata": {
        "id": "8k13y8jPJdBu"
      },
      "execution_count": 9,
      "outputs": []
    },
    {
      "cell_type": "code",
      "execution_count": 10,
      "metadata": {
        "id": "kNSUpsSYezTM"
      },
      "outputs": [],
      "source": [
        "# architecture of model\n",
        "\n",
        "class Classification_Diabetic_Retinopathy(nn.Module):\n",
        "\n",
        "    def __init__(self, params):\n",
        "\n",
        "        super(Classification_Diabetic_Retinopathy, self).__init__()\n",
        "\n",
        "        Cin,Hin,Win = params[\"shape_in\"]\n",
        "        init_f = params[\"initial_filters\"]\n",
        "        num_fc1 = params[\"num_fc1\"]\n",
        "        num_classes = params[\"num_classes\"]\n",
        "        self.dropout_rate = params[\"dropout_rate\"]\n",
        "\n",
        "        # CNN Layers\n",
        "\n",
        "        self.conv1 = nn.Conv2d(Cin, init_f, kernel_size=3)\n",
        "        h,w=findConv2dOutShape(Hin,Win,self.conv1)\n",
        "\n",
        "        self.conv2 = nn.Conv2d(init_f, 2*init_f, kernel_size=3)\n",
        "        h,w=findConv2dOutShape(h,w,self.conv2)\n",
        "\n",
        "        self.conv3 = nn.Conv2d(2*init_f, 4*init_f, kernel_size=3)\n",
        "        h,w=findConv2dOutShape(h,w,self.conv3)\n",
        "\n",
        "        self.conv4 = nn.Conv2d(4*init_f, 8*init_f, kernel_size=3)\n",
        "        h,w=findConv2dOutShape(h,w,self.conv4)\n",
        "\n",
        "        self.num_flatten=h*w*8*init_f\n",
        "        self.fc1 = nn.Linear(self.num_flatten, num_fc1)\n",
        "        self.fc2 = nn.Linear(num_fc1, num_classes)\n",
        "\n",
        "    def forward(self,X):\n",
        "\n",
        "        X = F.relu(self.conv1(X));\n",
        "        X = F.max_pool2d(X, 2, 2)\n",
        "        X = F.relu(self.conv2(X))\n",
        "        X = F.max_pool2d(X, 2, 2)\n",
        "        X = F.relu(self.conv3(X))\n",
        "        X = F.max_pool2d(X, 2, 2)\n",
        "        X = F.relu(self.conv4(X))\n",
        "        X = F.max_pool2d(X, 2, 2)\n",
        "        X = X.view(-1, self.num_flatten)\n",
        "        X = F.relu(self.fc1(X))\n",
        "        X = F.dropout(X, self.dropout_rate)\n",
        "        X = self.fc2(X)\n",
        "        return F.log_softmax(X, dim=1)"
      ]
    },
    {
      "cell_type": "markdown",
      "metadata": {
        "id": "CJABv7kzBdWS"
      },
      "source": [
        "## Instantiate Model"
      ]
    },
    {
      "cell_type": "code",
      "execution_count": null,
      "metadata": {
        "id": "12IG6ruG5V43"
      },
      "outputs": [],
      "source": [
        "params_model={\n",
        "        \"shape_in\": (3,224,224),\n",
        "        \"initial_filters\": 8,\n",
        "        \"num_fc1\": 100,\n",
        "        \"dropout_rate\": 0.15,\n",
        "        \"num_classes\": 5}\n",
        "\n",
        "CNN_model = Classification_Diabetic_Retinopathy(params_model)"
      ]
    },
    {
      "cell_type": "code",
      "execution_count": null,
      "metadata": {
        "id": "MGctlFGe7ISV"
      },
      "outputs": [],
      "source": [
        "# define computation hardware approach (GPU/CPU)\n",
        "device = torch.device('cuda' if torch.cuda.is_available() else 'cpu')\n",
        "CNN_model = CNN_model.to(device)"
      ]
    },
    {
      "cell_type": "markdown",
      "metadata": {
        "id": "09gytqWXBlOE"
      },
      "source": [
        "## Visualise Model"
      ]
    },
    {
      "cell_type": "code",
      "execution_count": null,
      "metadata": {
        "colab": {
          "base_uri": "https://localhost:8080/"
        },
        "id": "z8BKRCU4LXM4",
        "outputId": "6bee67ba-0c95-4770-af1e-8a3d6b698d92"
      },
      "outputs": [
        {
          "output_type": "stream",
          "name": "stdout",
          "text": [
            "----------------------------------------------------------------\n",
            "        Layer (type)               Output Shape         Param #\n",
            "================================================================\n",
            "            Conv2d-1          [-1, 8, 222, 222]             224\n",
            "            Conv2d-2         [-1, 16, 109, 109]           1,168\n",
            "            Conv2d-3           [-1, 32, 52, 52]           4,640\n",
            "            Conv2d-4           [-1, 64, 24, 24]          18,496\n",
            "            Linear-5                  [-1, 100]         921,700\n",
            "            Linear-6                    [-1, 5]             505\n",
            "================================================================\n",
            "Total params: 946,733\n",
            "Trainable params: 946,733\n",
            "Non-trainable params: 0\n",
            "----------------------------------------------------------------\n",
            "Input size (MB): 0.57\n",
            "Forward/backward pass size (MB): 5.40\n",
            "Params size (MB): 3.61\n",
            "Estimated Total Size (MB): 9.59\n",
            "----------------------------------------------------------------\n"
          ]
        }
      ],
      "source": [
        "# Model Summary\n",
        "summary(CNN_model, input_size=(3, 224, 224),device=device.type)"
      ]
    },
    {
      "cell_type": "code",
      "execution_count": null,
      "metadata": {
        "colab": {
          "base_uri": "https://localhost:8080/",
          "height": 37
        },
        "id": "IQzMQZw2BwOv",
        "outputId": "7c6e2d33-4330-40d8-a5a2-253bad2bfb53"
      },
      "outputs": [
        {
          "output_type": "execute_result",
          "data": {
            "text/plain": [
              "'CNN_model_visualization.pdf'"
            ],
            "application/vnd.google.colaboratory.intrinsic+json": {
              "type": "string"
            }
          },
          "metadata": {},
          "execution_count": 36
        }
      ],
      "source": [
        "#visualise the model in an image form\n",
        "\n",
        "device = torch.device(\"cuda\" if torch.cuda.is_available() else \"cpu\")\n",
        "CNN_model.to(device)\n",
        "\n",
        "input_tensor = torch.randn(1, 3, 224, 224, device=device)\n",
        "\n",
        "dot = make_dot(CNN_model(input_tensor), params=dict(CNN_model.named_parameters()))\n",
        "\n",
        "dot.render(\"CNN_model_visualization\", format=\"pdf\")"
      ]
    },
    {
      "cell_type": "markdown",
      "metadata": {
        "id": "a7jm6maADQwB"
      },
      "source": [
        "## Define Optimizer and Loss Function"
      ]
    },
    {
      "cell_type": "code",
      "execution_count": null,
      "metadata": {
        "id": "js3SWZD7LiLF"
      },
      "outputs": [],
      "source": [
        "loss_func = nn.CrossEntropyLoss()"
      ]
    },
    {
      "cell_type": "code",
      "execution_count": null,
      "metadata": {
        "colab": {
          "base_uri": "https://localhost:8080/"
        },
        "id": "7qvZP4vRL0ea",
        "outputId": "6d1fa5f0-1aa3-41e9-f265-4a695d01944d"
      },
      "outputs": [
        {
          "output_type": "stream",
          "name": "stderr",
          "text": [
            "/usr/local/lib/python3.10/dist-packages/torch/optim/lr_scheduler.py:28: UserWarning: The verbose parameter is deprecated. Please use get_last_lr() to access the learning rate.\n",
            "  warnings.warn(\"The verbose parameter is deprecated. Please use get_last_lr() \"\n"
          ]
        }
      ],
      "source": [
        "opt = optim.Adam(CNN_model.parameters(), lr=0.001)\n",
        "\n",
        "lr_scheduler = ReduceLROnPlateau(opt, mode='min',factor=0.5, patience=20,verbose=1)"
      ]
    },
    {
      "cell_type": "markdown",
      "metadata": {
        "id": "aZDYGwDYDr2n"
      },
      "source": [
        "## Train Model"
      ]
    },
    {
      "cell_type": "code",
      "execution_count": null,
      "metadata": {
        "id": "4MqDieV7de3m"
      },
      "outputs": [],
      "source": [
        "# Function to get the learning rate\n",
        "def get_lr(opt):\n",
        "    for param_group in opt.param_groups:\n",
        "        return param_group['lr']\n",
        "\n",
        "# Function to compute the loss value per batch of data\n",
        "def loss_batch(loss_func, output, target, opt=None):\n",
        "\n",
        "    loss = loss_func(output, target) # get loss\n",
        "    pred = output.argmax(dim=1, keepdim=True) # Get Output Class\n",
        "    metric_b=pred.eq(target.view_as(pred)).sum().item() # get performance metric\n",
        "\n",
        "    if opt is not None:\n",
        "        opt.zero_grad()\n",
        "        loss.backward()\n",
        "        opt.step()\n",
        "\n",
        "    return loss.item(), metric_b\n",
        "\n",
        "# Compute the loss value & performance metric for epoch\n",
        "def loss_epoch(model,loss_func,dataset_dl,opt=None):\n",
        "\n",
        "    run_loss=0.0\n",
        "    t_metric=0.0\n",
        "    len_data=len(dataset_dl.dataset)\n",
        "\n",
        "    for xb, yb in dataset_dl:\n",
        "        xb=xb.to(device)\n",
        "        yb=yb.to(device)\n",
        "        output=model(xb)\n",
        "        loss_b,metric_b=loss_batch(loss_func, output, yb, opt)\n",
        "        run_loss+=loss_b\n",
        "\n",
        "        if metric_b is not None:\n",
        "            t_metric+=metric_b\n",
        "\n",
        "    loss=run_loss/float(len_data)\n",
        "    metric=t_metric/float(len_data)\n",
        "\n",
        "    return loss, metric"
      ]
    },
    {
      "cell_type": "code",
      "execution_count": null,
      "metadata": {
        "id": "ao6M3dBXMcha"
      },
      "outputs": [],
      "source": [
        "def train_val(model, params, verbose=False):\n",
        "\n",
        "    # Get the parameters\n",
        "    epochs=params[\"epochs\"]\n",
        "    loss_func=params[\"f_loss\"]\n",
        "    opt=params[\"optimiser\"]\n",
        "    train_dl=params[\"train\"]\n",
        "    val_dl=params[\"val\"]\n",
        "    lr_scheduler=params[\"lr_change\"]\n",
        "    weight_path=params[\"weight_path\"]\n",
        "\n",
        "    loss_history={\"train\": [],\"val\": []}\n",
        "    metric_history={\"train\": [],\"val\": []}\n",
        "    best_model_wts = copy.deepcopy(model.state_dict())\n",
        "    best_loss=float('inf')\n",
        "\n",
        "\n",
        "    for epoch in tqdm(range(epochs)):\n",
        "\n",
        "        # Get the Learning Rate\n",
        "        current_lr = get_lr(opt)\n",
        "        if(verbose):\n",
        "            print('Epoch {}/{}, current lr={}'.format(epoch, epochs - 1, current_lr))\n",
        "\n",
        "\n",
        "\n",
        "\n",
        "        model.train()\n",
        "        train_loss, train_metric = loss_epoch(model,loss_func,train_dl,opt)\n",
        "\n",
        "        loss_history[\"train\"].append(train_loss)\n",
        "        metric_history[\"train\"].append(train_metric)\n",
        "\n",
        "\n",
        "# Evaluate Model Process\n",
        "\n",
        "        model.eval()\n",
        "        with torch.no_grad():\n",
        "            val_loss, val_metric = loss_epoch(model,loss_func,val_dl)\n",
        "\n",
        "        if(val_loss < best_loss):\n",
        "            best_loss = val_loss\n",
        "            best_model_wts = copy.deepcopy(model.state_dict())\n",
        "\n",
        "            torch.save(model.state_dict(), weight_path)\n",
        "            if(verbose):\n",
        "                print(\"Copied best model weights!\")\n",
        "\n",
        "        loss_history[\"val\"].append(val_loss)\n",
        "        metric_history[\"val\"].append(val_metric)\n",
        "\n",
        "        lr_scheduler.step(val_loss)\n",
        "        if current_lr != get_lr(opt):\n",
        "            if(verbose):\n",
        "                print(\"Loading best model weights!\")\n",
        "            model.load_state_dict(best_model_wts)\n",
        "\n",
        "        if(verbose):\n",
        "            print(f\"train loss: {train_loss:.6f}, dev loss: {val_loss:.6f}, accuracy: {100*val_metric:.2f}\")\n",
        "            print(\"-\"*10)\n",
        "\n",
        "    model.load_state_dict(best_model_wts)\n",
        "\n",
        "    return model, loss_history, metric_history"
      ]
    },
    {
      "cell_type": "code",
      "execution_count": null,
      "metadata": {
        "colab": {
          "base_uri": "https://localhost:8080/",
          "height": 103,
          "referenced_widgets": [
            "845678a8ee1c4df1aa018bc384e5cd7f",
            "34de3ec5fa77437fb39e3ff815c1840a",
            "9cc0d7b670074f388b244a71607b94ef",
            "b3a8ac505cdf4ff0bcd64f452860581f",
            "8beffab8376045e2ab7e69d54ef894df",
            "5c9dcd29dbaf45d88123e2a0d109ca45",
            "aab3a8bfd22c4808851874d074256d4e",
            "497a9c9d16264b72b16659fdbe3739b8",
            "3c04e5e51d81445c99606cd5417c4b15",
            "890cdc5f466248638d509a86caa1381a",
            "c5d4c75659cb493c8ca1cfb100588ec1"
          ]
        },
        "id": "BAfKhTd4bV7A",
        "outputId": "fac51847-f1ab-408a-dc45-30a06ac73c02"
      },
      "outputs": [
        {
          "output_type": "stream",
          "name": "stderr",
          "text": [
            "/usr/local/lib/python3.10/dist-packages/torch/optim/lr_scheduler.py:28: UserWarning: The verbose parameter is deprecated. Please use get_last_lr() to access the learning rate.\n",
            "  warnings.warn(\"The verbose parameter is deprecated. Please use get_last_lr() \"\n"
          ]
        },
        {
          "output_type": "display_data",
          "data": {
            "text/plain": [
              "  0%|          | 0/80 [00:00<?, ?it/s]"
            ],
            "application/vnd.jupyter.widget-view+json": {
              "version_major": 2,
              "version_minor": 0,
              "model_id": "845678a8ee1c4df1aa018bc384e5cd7f"
            }
          },
          "metadata": {}
        }
      ],
      "source": [
        "params_train={\n",
        " \"train\": train_loader,\"val\": val_loader,\n",
        " \"epochs\": 80,\n",
        " \"optimiser\": optim.Adam(CNN_model.parameters(),lr=0.001),\n",
        " \"lr_change\": ReduceLROnPlateau(opt, mode='min',factor=0.5, patience=20,verbose=1),\n",
        " \"f_loss\": nn.CrossEntropyLoss(),\n",
        " \"weight_path\": \"weights_run1.pt\",\n",
        "}\n",
        "\n",
        "# train and validate the model\n",
        "model,loss_hist_m,metric_hist_m = train_val(CNN_model,params_train)"
      ]
    },
    {
      "cell_type": "markdown",
      "metadata": {
        "id": "3L6VmJt2EBq4"
      },
      "source": [
        "## Generate Convergance Plots"
      ]
    },
    {
      "cell_type": "code",
      "execution_count": null,
      "metadata": {
        "id": "TRRJ2PmrbiSX",
        "colab": {
          "base_uri": "https://localhost:8080/",
          "height": 284
        },
        "outputId": "ed0300d4-1ead-4c21-c471-f9d5067ecd8a"
      },
      "outputs": [
        {
          "output_type": "display_data",
          "data": {
            "text/plain": [
              "<Figure size 1200x500 with 2 Axes>"
            ],
            "image/png": "[encoded data removed]"
          },
          "metadata": {}
        }
      ],
      "source": [
        "epochs=params_train[\"epochs\"]\n",
        "fig,ax = plt.subplots(1,2,figsize=(12,5))\n",
        "\n",
        "sns.lineplot(x=[*range(1,epochs+1)],y=loss_hist_m[\"train\"],ax=ax[0],label='loss_hist[\"train\"]')\n",
        "sns.lineplot(x=[*range(1,epochs+1)],y=loss_hist_m[\"val\"],ax=ax[0],label='loss_hist[\"val\"]')\n",
        "sns.lineplot(x=[*range(1,epochs+1)],y=metric_hist_m[\"train\"],ax=ax[1],label='Acc_hist[\"train\"]')\n",
        "sns.lineplot(x=[*range(1,epochs+1)],y=metric_hist_m[\"val\"],ax=ax[1],label='Acc_hist[\"val\"]')\n",
        "\n",
        "plt.savefig(\"CNN_model_convergence_hist_plot_run1.png\")"
      ]
    },
    {
      "cell_type": "markdown",
      "metadata": {
        "id": "-T2WAGbOFLRJ"
      },
      "source": [
        "## Classification Report for Training Dataset"
      ]
    },
    {
      "cell_type": "code",
      "execution_count": 14,
      "metadata": {
        "id": "NExsdQlKfWVj"
      },
      "outputs": [],
      "source": [
        "def ture_and_pred_data(val_loader, model):\n",
        "    i = 0\n",
        "    y_true = []\n",
        "    y_pred = []\n",
        "    for images, labels in val_loader:\n",
        "        images = images.to(device)\n",
        "        labels = labels.numpy()\n",
        "        outputs = model(images)\n",
        "        _, pred = torch.max(outputs.data, 1)\n",
        "        pred = pred.detach().cpu().numpy()\n",
        "\n",
        "        y_true = np.append(y_true, labels)\n",
        "        y_pred = np.append(y_pred, pred)\n",
        "\n",
        "    return y_true, y_pred"
      ]
    },
    {
      "cell_type": "code",
      "execution_count": 15,
      "metadata": {
        "id": "xr-hW-1LfZdE",
        "colab": {
          "base_uri": "https://localhost:8080/",
          "height": 190
        },
        "outputId": "319eb39f-1245-48fe-a03f-497d5f2d8561"
      },
      "outputs": [
        {
          "output_type": "error",
          "ename": "NameError",
          "evalue": "name 'CNN_model' is not defined",
          "traceback": [
            "\u001b[0;31m---------------------------------------------------------------------------\u001b[0m",
            "\u001b[0;31mNameError\u001b[0m                                 Traceback (most recent call last)",
            "\u001b[0;32m<ipython-input-15-b26fcf734a49>\u001b[0m in \u001b[0;36m<cell line: 3>\u001b[0;34m()\u001b[0m\n\u001b[1;32m      1\u001b[0m \u001b[0;31m# Classification Report for Model based on Train Set\u001b[0m\u001b[0;34m\u001b[0m\u001b[0;34m\u001b[0m\u001b[0m\n\u001b[1;32m      2\u001b[0m \u001b[0;34m\u001b[0m\u001b[0m\n\u001b[0;32m----> 3\u001b[0;31m \u001b[0my_true\u001b[0m\u001b[0;34m,\u001b[0m \u001b[0my_pred\u001b[0m \u001b[0;34m=\u001b[0m \u001b[0mture_and_pred_data\u001b[0m\u001b[0;34m(\u001b[0m\u001b[0mtrain_loader\u001b[0m\u001b[0;34m,\u001b[0m \u001b[0mCNN_model\u001b[0m\u001b[0;34m)\u001b[0m\u001b[0;34m\u001b[0m\u001b[0;34m\u001b[0m\u001b[0m\n\u001b[0m\u001b[1;32m      4\u001b[0m \u001b[0mprint\u001b[0m\u001b[0;34m(\u001b[0m\u001b[0mclassification_report\u001b[0m\u001b[0;34m(\u001b[0m\u001b[0my_true\u001b[0m\u001b[0;34m,\u001b[0m \u001b[0my_pred\u001b[0m\u001b[0;34m)\u001b[0m\u001b[0;34m,\u001b[0m \u001b[0;34m'\\n\\n'\u001b[0m\u001b[0;34m)\u001b[0m\u001b[0;34m\u001b[0m\u001b[0;34m\u001b[0m\u001b[0m\n",
            "\u001b[0;31mNameError\u001b[0m: name 'CNN_model' is not defined"
          ]
        }
      ],
      "source": [
        "# Classification Report for Model based on Train Set\n",
        "\n",
        "y_true, y_pred = ture_and_pred_data(train_loader, CNN_model)\n",
        "print(classification_report(y_true, y_pred), '\\n\\n')"
      ]
    },
    {
      "cell_type": "markdown",
      "metadata": {
        "id": "0xd3JNGfFVOc"
      },
      "source": [
        "## Classification Report for Validation Dataset"
      ]
    },
    {
      "cell_type": "code",
      "execution_count": null,
      "metadata": {
        "id": "mhEySLRifbe1",
        "colab": {
          "base_uri": "https://localhost:8080/"
        },
        "outputId": "33221bfc-0df3-46d5-8f6b-ef4a0ed78414"
      },
      "outputs": [
        {
          "output_type": "stream",
          "name": "stdout",
          "text": [
            "              precision    recall  f1-score   support\n",
            "\n",
            "         0.0       0.44      0.46      0.45        57\n",
            "         1.0       0.59      0.74      0.66       138\n",
            "         2.0       0.93      0.97      0.95       286\n",
            "         3.0       0.00      0.00      0.00        31\n",
            "         4.0       0.00      0.00      0.00        19\n",
            "\n",
            "    accuracy                           0.76       531\n",
            "   macro avg       0.39      0.43      0.41       531\n",
            "weighted avg       0.70      0.76      0.73       531\n",
            " \n",
            "\n",
            "\n"
          ]
        },
        {
          "output_type": "stream",
          "name": "stderr",
          "text": [
            "/usr/local/lib/python3.10/dist-packages/sklearn/metrics/_classification.py:1344: UndefinedMetricWarning: Precision and F-score are ill-defined and being set to 0.0 in labels with no predicted samples. Use `zero_division` parameter to control this behavior.\n",
            "  _warn_prf(average, modifier, msg_start, len(result))\n",
            "/usr/local/lib/python3.10/dist-packages/sklearn/metrics/_classification.py:1344: UndefinedMetricWarning: Precision and F-score are ill-defined and being set to 0.0 in labels with no predicted samples. Use `zero_division` parameter to control this behavior.\n",
            "  _warn_prf(average, modifier, msg_start, len(result))\n",
            "/usr/local/lib/python3.10/dist-packages/sklearn/metrics/_classification.py:1344: UndefinedMetricWarning: Precision and F-score are ill-defined and being set to 0.0 in labels with no predicted samples. Use `zero_division` parameter to control this behavior.\n",
            "  _warn_prf(average, modifier, msg_start, len(result))\n"
          ]
        }
      ],
      "source": [
        " # Classification Report for Model based on Validation Set\n",
        "\n",
        "y_true, y_pred = ture_and_pred_data(val_loader, CNN_model)\n",
        "print(classification_report(y_true, y_pred), '\\n\\n')"
      ]
    },
    {
      "cell_type": "markdown",
      "metadata": {
        "id": "pBhvild2FgTX"
      },
      "source": [
        "## Save the Model"
      ]
    },
    {
      "cell_type": "code",
      "execution_count": null,
      "metadata": {
        "id": "m-K_ga05f5Nk"
      },
      "outputs": [],
      "source": [
        "torch.save(CNN_model, \"CNN_Model_run1.pt\")"
      ]
    },
    {
      "cell_type": "markdown",
      "metadata": {
        "id": "kMuwjumbFdUc"
      },
      "source": [
        "## Evaluate model on Test Dataset"
      ]
    },
    {
      "cell_type": "code",
      "execution_count": 16,
      "metadata": {
        "id": "CX6xrRUPgBcQ"
      },
      "outputs": [],
      "source": [
        "# Load the pretrained model\n",
        "model = torch.load(\"/content/CNN_model_run1.pt\") #change to your file path\n",
        "\n",
        "device = torch.device(\"cuda\" if torch.cuda.is_available() else \"cpu\")\n",
        "model = model.to(device)"
      ]
    },
    {
      "cell_type": "code",
      "source": [
        "# This cell is repeated for running the pretrained model and making the predictions on the test set\n",
        "def ture_and_pred_data(val_loader, model):\n",
        "    i = 0\n",
        "    y_true = []\n",
        "    y_pred = []\n",
        "    for images, labels in val_loader:\n",
        "        images = images.to(device)\n",
        "        labels = labels.numpy()\n",
        "        outputs = model(images)\n",
        "        _, pred = torch.max(outputs.data, 1)\n",
        "        pred = pred.detach().cpu().numpy()\n",
        "\n",
        "        y_true = np.append(y_true, labels)\n",
        "        y_pred = np.append(y_pred, pred)\n",
        "\n",
        "    return y_true, y_pred"
      ],
      "metadata": {
        "id": "dSmGM9vN6aPr"
      },
      "execution_count": null,
      "outputs": []
    },
    {
      "cell_type": "code",
      "execution_count": 17,
      "metadata": {
        "id": "U0MSosljF8Ow",
        "colab": {
          "base_uri": "https://localhost:8080/"
        },
        "outputId": "7980fa41-7c71-4d0e-87ec-47713b03f2ee"
      },
      "outputs": [
        {
          "output_type": "stream",
          "name": "stdout",
          "text": [
            "Predicted class: 2\n",
            "Predicted class: 1\n",
            "Predicted class: 1\n",
            "Predicted class: 1\n",
            "Predicted class: 1\n",
            "Predicted class: 0\n",
            "Predicted class: 2\n",
            "Predicted class: 2\n",
            "Predicted class: 1\n",
            "Predicted class: 1\n",
            "Predicted class: 0\n",
            "Predicted class: 2\n",
            "Predicted class: 0\n",
            "Predicted class: 2\n",
            "Predicted class: 2\n",
            "Predicted class: 1\n",
            "Predicted class: 1\n",
            "Predicted class: 2\n",
            "Predicted class: 1\n",
            "Predicted class: 1\n",
            "Predicted class: 2\n",
            "Predicted class: 1\n",
            "Predicted class: 1\n",
            "Predicted class: 1\n",
            "Predicted class: 1\n",
            "Predicted class: 2\n",
            "Predicted class: 2\n",
            "Predicted class: 1\n",
            "Predicted class: 0\n",
            "Predicted class: 1\n",
            "Predicted class: 1\n",
            "Predicted class: 2\n",
            "Predicted class: 1\n",
            "Predicted class: 0\n",
            "Predicted class: 2\n",
            "Predicted class: 2\n",
            "Predicted class: 2\n",
            "Predicted class: 2\n",
            "Predicted class: 2\n",
            "Predicted class: 2\n",
            "Predicted class: 2\n",
            "Predicted class: 0\n",
            "Predicted class: 1\n",
            "Predicted class: 2\n",
            "Predicted class: 1\n",
            "Predicted class: 2\n",
            "Predicted class: 2\n",
            "Predicted class: 1\n",
            "Predicted class: 2\n",
            "Predicted class: 2\n",
            "Predicted class: 2\n",
            "Predicted class: 2\n",
            "Predicted class: 2\n",
            "Predicted class: 1\n",
            "Predicted class: 2\n",
            "Predicted class: 1\n",
            "Predicted class: 1\n",
            "Predicted class: 1\n",
            "Predicted class: 1\n",
            "Predicted class: 2\n",
            "Predicted class: 1\n",
            "Predicted class: 1\n",
            "Predicted class: 2\n",
            "Predicted class: 2\n",
            "Predicted class: 2\n",
            "Predicted class: 0\n",
            "Predicted class: 1\n",
            "Predicted class: 2\n",
            "Predicted class: 2\n",
            "Predicted class: 1\n",
            "Predicted class: 2\n",
            "Predicted class: 2\n",
            "Predicted class: 2\n",
            "Predicted class: 2\n",
            "Predicted class: 1\n",
            "Predicted class: 2\n",
            "Predicted class: 1\n",
            "Predicted class: 0\n",
            "Predicted class: 1\n",
            "Predicted class: 2\n",
            "Predicted class: 1\n",
            "Predicted class: 1\n",
            "Predicted class: 2\n",
            "Predicted class: 2\n",
            "Predicted class: 1\n",
            "Predicted class: 1\n",
            "Predicted class: 1\n",
            "Predicted class: 1\n",
            "Predicted class: 1\n",
            "Predicted class: 1\n",
            "Predicted class: 2\n",
            "Predicted class: 1\n",
            "Predicted class: 2\n",
            "Predicted class: 2\n",
            "Predicted class: 1\n",
            "Predicted class: 1\n",
            "Predicted class: 1\n",
            "Predicted class: 1\n",
            "Predicted class: 0\n",
            "Predicted class: 2\n",
            "Predicted class: 2\n",
            "Predicted class: 2\n",
            "Predicted class: 0\n",
            "Predicted class: 2\n",
            "Predicted class: 2\n",
            "Predicted class: 2\n",
            "Predicted class: 2\n",
            "Predicted class: 1\n",
            "Predicted class: 2\n",
            "Predicted class: 1\n",
            "Predicted class: 2\n",
            "Predicted class: 1\n",
            "Predicted class: 1\n",
            "Predicted class: 2\n",
            "Predicted class: 2\n",
            "Predicted class: 2\n",
            "Predicted class: 1\n",
            "Predicted class: 0\n",
            "Predicted class: 2\n",
            "Predicted class: 1\n",
            "Predicted class: 2\n",
            "Predicted class: 1\n",
            "Predicted class: 1\n",
            "Predicted class: 2\n",
            "Predicted class: 0\n",
            "Predicted class: 2\n",
            "Predicted class: 1\n",
            "Predicted class: 1\n",
            "Predicted class: 2\n",
            "Predicted class: 2\n",
            "Predicted class: 1\n",
            "Predicted class: 1\n",
            "Predicted class: 1\n",
            "Predicted class: 1\n",
            "Predicted class: 1\n",
            "Predicted class: 2\n",
            "Predicted class: 2\n",
            "Predicted class: 2\n",
            "Predicted class: 0\n",
            "Predicted class: 2\n",
            "Predicted class: 1\n",
            "Predicted class: 2\n",
            "Predicted class: 1\n",
            "Predicted class: 2\n",
            "Predicted class: 1\n",
            "Predicted class: 2\n",
            "Predicted class: 2\n",
            "Predicted class: 2\n",
            "Predicted class: 1\n",
            "Predicted class: 1\n",
            "Predicted class: 1\n",
            "Predicted class: 1\n",
            "Predicted class: 1\n",
            "Predicted class: 2\n",
            "Predicted class: 2\n",
            "Predicted class: 2\n",
            "Predicted class: 2\n",
            "Predicted class: 2\n",
            "Predicted class: 2\n",
            "Predicted class: 1\n",
            "Predicted class: 2\n",
            "Predicted class: 1\n",
            "Predicted class: 2\n",
            "Predicted class: 2\n",
            "Predicted class: 1\n",
            "Predicted class: 2\n",
            "Predicted class: 2\n",
            "Predicted class: 2\n",
            "Predicted class: 2\n",
            "Predicted class: 2\n",
            "Predicted class: 1\n",
            "Predicted class: 1\n",
            "Predicted class: 1\n",
            "Predicted class: 2\n",
            "Predicted class: 1\n",
            "Predicted class: 2\n",
            "Predicted class: 2\n",
            "Predicted class: 2\n",
            "Predicted class: 2\n",
            "Predicted class: 2\n",
            "Predicted class: 2\n",
            "Predicted class: 2\n",
            "Predicted class: 2\n",
            "Predicted class: 3\n",
            "Predicted class: 1\n",
            "Predicted class: 2\n",
            "Predicted class: 1\n",
            "Predicted class: 1\n",
            "Predicted class: 1\n",
            "Predicted class: 1\n",
            "Predicted class: 1\n",
            "Predicted class: 2\n",
            "Predicted class: 2\n",
            "Predicted class: 2\n",
            "Predicted class: 2\n",
            "Predicted class: 2\n",
            "Predicted class: 1\n",
            "Predicted class: 2\n",
            "Predicted class: 2\n",
            "Predicted class: 0\n",
            "Predicted class: 2\n",
            "Predicted class: 1\n",
            "Predicted class: 2\n",
            "Predicted class: 2\n",
            "Predicted class: 2\n",
            "Predicted class: 1\n",
            "Predicted class: 2\n",
            "Predicted class: 2\n",
            "Predicted class: 2\n",
            "Predicted class: 2\n",
            "Predicted class: 0\n",
            "Predicted class: 2\n",
            "Predicted class: 2\n",
            "Predicted class: 2\n",
            "Predicted class: 2\n",
            "Predicted class: 0\n",
            "Predicted class: 1\n",
            "Predicted class: 1\n",
            "Predicted class: 2\n",
            "Predicted class: 1\n",
            "Predicted class: 1\n",
            "Predicted class: 2\n",
            "Predicted class: 1\n",
            "Predicted class: 2\n",
            "Predicted class: 2\n",
            "Predicted class: 2\n",
            "Predicted class: 0\n",
            "Predicted class: 2\n",
            "Predicted class: 2\n",
            "Predicted class: 2\n",
            "Predicted class: 2\n"
          ]
        }
      ],
      "source": [
        "# Iterate over the test loader for prediction\n",
        "\n",
        "with torch.no_grad():\n",
        "    for images, _ in test_loader:\n",
        "\n",
        "        images = images.to(device)\n",
        "        output = model(images)\n",
        "        probabilities = torch.softmax(output, dim=1)\n",
        "        predicted_classes = torch.argmax(probabilities, dim=1)\n",
        "\n",
        "        for predicted_class in predicted_classes:\n",
        "            print(\"Predicted class:\", predicted_class.item())"
      ]
    },
    {
      "cell_type": "code",
      "execution_count": 18,
      "metadata": {
        "id": "mo6CHBgvgXCz",
        "colab": {
          "base_uri": "https://localhost:8080/"
        },
        "outputId": "c8ba9cd3-4bfa-4bd3-8c77-51ec1cbc9e07"
      },
      "outputs": [
        {
          "output_type": "stream",
          "name": "stdout",
          "text": [
            "              precision    recall  f1-score   support\n",
            "\n",
            "         0.0       0.50      0.40      0.44        20\n",
            "         1.0       0.60      0.83      0.70        65\n",
            "         2.0       0.91      0.96      0.93       118\n",
            "         3.0       0.00      0.00      0.00        20\n",
            "         4.0       0.00      0.00      0.00         8\n",
            "\n",
            "    accuracy                           0.76       231\n",
            "   macro avg       0.40      0.44      0.42       231\n",
            "weighted avg       0.68      0.76      0.71       231\n",
            " \n",
            "\n",
            "\n"
          ]
        },
        {
          "output_type": "stream",
          "name": "stderr",
          "text": [
            "/usr/local/lib/python3.10/dist-packages/sklearn/metrics/_classification.py:1344: UndefinedMetricWarning: Precision and F-score are ill-defined and being set to 0.0 in labels with no predicted samples. Use `zero_division` parameter to control this behavior.\n",
            "  _warn_prf(average, modifier, msg_start, len(result))\n",
            "/usr/local/lib/python3.10/dist-packages/sklearn/metrics/_classification.py:1344: UndefinedMetricWarning: Precision and F-score are ill-defined and being set to 0.0 in labels with no predicted samples. Use `zero_division` parameter to control this behavior.\n",
            "  _warn_prf(average, modifier, msg_start, len(result))\n",
            "/usr/local/lib/python3.10/dist-packages/sklearn/metrics/_classification.py:1344: UndefinedMetricWarning: Precision and F-score are ill-defined and being set to 0.0 in labels with no predicted samples. Use `zero_division` parameter to control this behavior.\n",
            "  _warn_prf(average, modifier, msg_start, len(result))\n"
          ]
        }
      ],
      "source": [
        "## Classification Report for Model based on Test set\n",
        "\n",
        "y_true, y_pred = ture_and_pred_data(test_loader, model)\n",
        "print(classification_report(y_true, y_pred), '\\n\\n')"
      ]
    },
    {
      "cell_type": "code",
      "source": [],
      "metadata": {
        "id": "Jwt2phkzPSa7"
      },
      "execution_count": null,
      "outputs": []
    }
  ],
  "metadata": {
    "accelerator": "GPU",
    "colab": {
      "gpuType": "T4",
      "provenance": []
    },
    "kernelspec": {
      "display_name": "Python 3",
      "name": "python3"
    },
    "language_info": {
      "name": "python"
    },
    "widgets": {
      "application/vnd.jupyter.widget-state+json": {
        "845678a8ee1c4df1aa018bc384e5cd7f": {
          "model_module": "@jupyter-widgets/controls",
          "model_name": "HBoxModel",
          "model_module_version": "1.5.0",
          "state": {
            "_dom_classes": [],
            "_model_module": "@jupyter-widgets/controls",
            "_model_module_version": "1.5.0",
            "_model_name": "HBoxModel",
            "_view_count": null,
            "_view_module": "@jupyter-widgets/controls",
            "_view_module_version": "1.5.0",
            "_view_name": "HBoxView",
            "box_style": "",
            "children": [
              "IPY_MODEL_34de3ec5fa77437fb39e3ff815c1840a",
              "IPY_MODEL_9cc0d7b670074f388b244a71607b94ef",
              "IPY_MODEL_b3a8ac505cdf4ff0bcd64f452860581f"
            ],
            "layout": "IPY_MODEL_8beffab8376045e2ab7e69d54ef894df"
          }
        },
        "34de3ec5fa77437fb39e3ff815c1840a": {
          "model_module": "@jupyter-widgets/controls",
          "model_name": "HTMLModel",
          "model_module_version": "1.5.0",
          "state": {
            "_dom_classes": [],
            "_model_module": "@jupyter-widgets/controls",
            "_model_module_version": "1.5.0",
            "_model_name": "HTMLModel",
            "_view_count": null,
            "_view_module": "@jupyter-widgets/controls",
            "_view_module_version": "1.5.0",
            "_view_name": "HTMLView",
            "description": "",
            "description_tooltip": null,
            "layout": "IPY_MODEL_5c9dcd29dbaf45d88123e2a0d109ca45",
            "placeholder": "​",
            "style": "IPY_MODEL_aab3a8bfd22c4808851874d074256d4e",
            "value": "100%"
          }
        },
        "9cc0d7b670074f388b244a71607b94ef": {
          "model_module": "@jupyter-widgets/controls",
          "model_name": "FloatProgressModel",
          "model_module_version": "1.5.0",
          "state": {
            "_dom_classes": [],
            "_model_module": "@jupyter-widgets/controls",
            "_model_module_version": "1.5.0",
            "_model_name": "FloatProgressModel",
            "_view_count": null,
            "_view_module": "@jupyter-widgets/controls",
            "_view_module_version": "1.5.0",
            "_view_name": "ProgressView",
            "bar_style": "success",
            "description": "",
            "description_tooltip": null,
            "layout": "IPY_MODEL_497a9c9d16264b72b16659fdbe3739b8",
            "max": 80,
            "min": 0,
            "orientation": "horizontal",
            "style": "IPY_MODEL_3c04e5e51d81445c99606cd5417c4b15",
            "value": 80
          }
        },
        "b3a8ac505cdf4ff0bcd64f452860581f": {
          "model_module": "@jupyter-widgets/controls",
          "model_name": "HTMLModel",
          "model_module_version": "1.5.0",
          "state": {
            "_dom_classes": [],
            "_model_module": "@jupyter-widgets/controls",
            "_model_module_version": "1.5.0",
            "_model_name": "HTMLModel",
            "_view_count": null,
            "_view_module": "@jupyter-widgets/controls",
            "_view_module_version": "1.5.0",
            "_view_name": "HTMLView",
            "description": "",
            "description_tooltip": null,
            "layout": "IPY_MODEL_890cdc5f466248638d509a86caa1381a",
            "placeholder": "​",
            "style": "IPY_MODEL_c5d4c75659cb493c8ca1cfb100588ec1",
            "value": " 80/80 [09:02&lt;00:00,  6.66s/it]"
          }
        },
        "8beffab8376045e2ab7e69d54ef894df": {
          "model_module": "@jupyter-widgets/base",
          "model_name": "LayoutModel",
          "model_module_version": "1.2.0",
          "state": {
            "_model_module": "@jupyter-widgets/base",
            "_model_module_version": "1.2.0",
            "_model_name": "LayoutModel",
            "_view_count": null,
            "_view_module": "@jupyter-widgets/base",
            "_view_module_version": "1.2.0",
            "_view_name": "LayoutView",
            "align_content": null,
            "align_items": null,
            "align_self": null,
            "border": null,
            "bottom": null,
            "display": null,
            "flex": null,
            "flex_flow": null,
            "grid_area": null,
            "grid_auto_columns": null,
            "grid_auto_flow": null,
            "grid_auto_rows": null,
            "grid_column": null,
            "grid_gap": null,
            "grid_row": null,
            "grid_template_areas": null,
            "grid_template_columns": null,
            "grid_template_rows": null,
            "height": null,
            "justify_content": null,
            "justify_items": null,
            "left": null,
            "margin": null,
            "max_height": null,
            "max_width": null,
            "min_height": null,
            "min_width": null,
            "object_fit": null,
            "object_position": null,
            "order": null,
            "overflow": null,
            "overflow_x": null,
            "overflow_y": null,
            "padding": null,
            "right": null,
            "top": null,
            "visibility": null,
            "width": null
          }
        },
        "5c9dcd29dbaf45d88123e2a0d109ca45": {
          "model_module": "@jupyter-widgets/base",
          "model_name": "LayoutModel",
          "model_module_version": "1.2.0",
          "state": {
            "_model_module": "@jupyter-widgets/base",
            "_model_module_version": "1.2.0",
            "_model_name": "LayoutModel",
            "_view_count": null,
            "_view_module": "@jupyter-widgets/base",
            "_view_module_version": "1.2.0",
            "_view_name": "LayoutView",
            "align_content": null,
            "align_items": null,
            "align_self": null,
            "border": null,
            "bottom": null,
            "display": null,
            "flex": null,
            "flex_flow": null,
            "grid_area": null,
            "grid_auto_columns": null,
            "grid_auto_flow": null,
            "grid_auto_rows": null,
            "grid_column": null,
            "grid_gap": null,
            "grid_row": null,
            "grid_template_areas": null,
            "grid_template_columns": null,
            "grid_template_rows": null,
            "height": null,
            "justify_content": null,
            "justify_items": null,
            "left": null,
            "margin": null,
            "max_height": null,
            "max_width": null,
            "min_height": null,
            "min_width": null,
            "object_fit": null,
            "object_position": null,
            "order": null,
            "overflow": null,
            "overflow_x": null,
            "overflow_y": null,
            "padding": null,
            "right": null,
            "top": null,
            "visibility": null,
            "width": null
          }
        },
        "aab3a8bfd22c4808851874d074256d4e": {
          "model_module": "@jupyter-widgets/controls",
          "model_name": "DescriptionStyleModel",
          "model_module_version": "1.5.0",
          "state": {
            "_model_module": "@jupyter-widgets/controls",
            "_model_module_version": "1.5.0",
            "_model_name": "DescriptionStyleModel",
            "_view_count": null,
            "_view_module": "@jupyter-widgets/base",
            "_view_module_version": "1.2.0",
            "_view_name": "StyleView",
            "description_width": ""
          }
        },
        "497a9c9d16264b72b16659fdbe3739b8": {
          "model_module": "@jupyter-widgets/base",
          "model_name": "LayoutModel",
          "model_module_version": "1.2.0",
          "state": {
            "_model_module": "@jupyter-widgets/base",
            "_model_module_version": "1.2.0",
            "_model_name": "LayoutModel",
            "_view_count": null,
            "_view_module": "@jupyter-widgets/base",
            "_view_module_version": "1.2.0",
            "_view_name": "LayoutView",
            "align_content": null,
            "align_items": null,
            "align_self": null,
            "border": null,
            "bottom": null,
            "display": null,
            "flex": null,
            "flex_flow": null,
            "grid_area": null,
            "grid_auto_columns": null,
            "grid_auto_flow": null,
            "grid_auto_rows": null,
            "grid_column": null,
            "grid_gap": null,
            "grid_row": null,
            "grid_template_areas": null,
            "grid_template_columns": null,
            "grid_template_rows": null,
            "height": null,
            "justify_content": null,
            "justify_items": null,
            "left": null,
            "margin": null,
            "max_height": null,
            "max_width": null,
            "min_height": null,
            "min_width": null,
            "object_fit": null,
            "object_position": null,
            "order": null,
            "overflow": null,
            "overflow_x": null,
            "overflow_y": null,
            "padding": null,
            "right": null,
            "top": null,
            "visibility": null,
            "width": null
          }
        },
        "3c04e5e51d81445c99606cd5417c4b15": {
          "model_module": "@jupyter-widgets/controls",
          "model_name": "ProgressStyleModel",
          "model_module_version": "1.5.0",
          "state": {
            "_model_module": "@jupyter-widgets/controls",
            "_model_module_version": "1.5.0",
            "_model_name": "ProgressStyleModel",
            "_view_count": null,
            "_view_module": "@jupyter-widgets/base",
            "_view_module_version": "1.2.0",
            "_view_name": "StyleView",
            "bar_color": null,
            "description_width": ""
          }
        },
        "890cdc5f466248638d509a86caa1381a": {
          "model_module": "@jupyter-widgets/base",
          "model_name": "LayoutModel",
          "model_module_version": "1.2.0",
          "state": {
            "_model_module": "@jupyter-widgets/base",
            "_model_module_version": "1.2.0",
            "_model_name": "LayoutModel",
            "_view_count": null,
            "_view_module": "@jupyter-widgets/base",
            "_view_module_version": "1.2.0",
            "_view_name": "LayoutView",
            "align_content": null,
            "align_items": null,
            "align_self": null,
            "border": null,
            "bottom": null,
            "display": null,
            "flex": null,
            "flex_flow": null,
            "grid_area": null,
            "grid_auto_columns": null,
            "grid_auto_flow": null,
            "grid_auto_rows": null,
            "grid_column": null,
            "grid_gap": null,
            "grid_row": null,
            "grid_template_areas": null,
            "grid_template_columns": null,
            "grid_template_rows": null,
            "height": null,
            "justify_content": null,
            "justify_items": null,
            "left": null,
            "margin": null,
            "max_height": null,
            "max_width": null,
            "min_height": null,
            "min_width": null,
            "object_fit": null,
            "object_position": null,
            "order": null,
            "overflow": null,
            "overflow_x": null,
            "overflow_y": null,
            "padding": null,
            "right": null,
            "top": null,
            "visibility": null,
            "width": null
          }
        },
        "c5d4c75659cb493c8ca1cfb100588ec1": {
          "model_module": "@jupyter-widgets/controls",
          "model_name": "DescriptionStyleModel",
          "model_module_version": "1.5.0",
          "state": {
            "_model_module": "@jupyter-widgets/controls",
            "_model_module_version": "1.5.0",
            "_model_name": "DescriptionStyleModel",
            "_view_count": null,
            "_view_module": "@jupyter-widgets/base",
            "_view_module_version": "1.2.0",
            "_view_name": "StyleView",
            "description_width": ""
          }
        }
      }
    }
  },
  "nbformat": 4,
  "nbformat_minor": 0
}