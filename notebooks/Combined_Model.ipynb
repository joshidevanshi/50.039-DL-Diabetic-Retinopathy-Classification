{
  "cells": [
    {
      "cell_type": "code",
      "execution_count": 1,
      "metadata": {
        "colab": {
          "base_uri": "https://localhost:8080/"
        },
        "id": "58nKvT57kaUK",
        "outputId": "847cc663-9dac-49c3-d2ef-1da4ebe3c56c"
      },
      "outputs": [
        {
          "output_type": "stream",
          "name": "stdout",
          "text": [
            "Collecting torchviz\n",
            "  Downloading torchviz-0.0.2.tar.gz (4.9 kB)\n",
            "  Preparing metadata (setup.py) ... \u001b[?25l\u001b[?25hdone\n",
            "Requirement already satisfied: torch in /usr/local/lib/python3.10/dist-packages (from torchviz) (2.2.1+cu121)\n",
            "Requirement already satisfied: graphviz in /usr/local/lib/python3.10/dist-packages (from torchviz) (0.20.3)\n",
            "Requirement already satisfied: filelock in /usr/local/lib/python3.10/dist-packages (from torch->torchviz) (3.13.4)\n",
            "Requirement already satisfied: typing-extensions>=4.8.0 in /usr/local/lib/python3.10/dist-packages (from torch->torchviz) (4.11.0)\n",
            "Requirement already satisfied: sympy in /usr/local/lib/python3.10/dist-packages (from torch->torchviz) (1.12)\n",
            "Requirement already satisfied: networkx in /usr/local/lib/python3.10/dist-packages (from torch->torchviz) (3.3)\n",
            "Requirement already satisfied: jinja2 in /usr/local/lib/python3.10/dist-packages (from torch->torchviz) (3.1.3)\n",
            "Requirement already satisfied: fsspec in /usr/local/lib/python3.10/dist-packages (from torch->torchviz) (2023.6.0)\n",
            "Collecting nvidia-cuda-nvrtc-cu12==12.1.105 (from torch->torchviz)\n",
            "  Using cached nvidia_cuda_nvrtc_cu12-12.1.105-py3-none-manylinux1_x86_64.whl (23.7 MB)\n",
            "Collecting nvidia-cuda-runtime-cu12==12.1.105 (from torch->torchviz)\n",
            "  Using cached nvidia_cuda_runtime_cu12-12.1.105-py3-none-manylinux1_x86_64.whl (823 kB)\n",
            "Collecting nvidia-cuda-cupti-cu12==12.1.105 (from torch->torchviz)\n",
            "  Using cached nvidia_cuda_cupti_cu12-12.1.105-py3-none-manylinux1_x86_64.whl (14.1 MB)\n",
            "Collecting nvidia-cudnn-cu12==8.9.2.26 (from torch->torchviz)\n",
            "  Using cached nvidia_cudnn_cu12-8.9.2.26-py3-none-manylinux1_x86_64.whl (731.7 MB)\n",
            "Collecting nvidia-cublas-cu12==12.1.3.1 (from torch->torchviz)\n",
            "  Using cached nvidia_cublas_cu12-12.1.3.1-py3-none-manylinux1_x86_64.whl (410.6 MB)\n",
            "Collecting nvidia-cufft-cu12==11.0.2.54 (from torch->torchviz)\n",
            "  Using cached nvidia_cufft_cu12-11.0.2.54-py3-none-manylinux1_x86_64.whl (121.6 MB)\n",
            "Collecting nvidia-curand-cu12==10.3.2.106 (from torch->torchviz)\n",
            "  Using cached nvidia_curand_cu12-10.3.2.106-py3-none-manylinux1_x86_64.whl (56.5 MB)\n",
            "Collecting nvidia-cusolver-cu12==11.4.5.107 (from torch->torchviz)\n",
            "  Using cached nvidia_cusolver_cu12-11.4.5.107-py3-none-manylinux1_x86_64.whl (124.2 MB)\n",
            "Collecting nvidia-cusparse-cu12==12.1.0.106 (from torch->torchviz)\n",
            "  Using cached nvidia_cusparse_cu12-12.1.0.106-py3-none-manylinux1_x86_64.whl (196.0 MB)\n",
            "Collecting nvidia-nccl-cu12==2.19.3 (from torch->torchviz)\n",
            "  Using cached nvidia_nccl_cu12-2.19.3-py3-none-manylinux1_x86_64.whl (166.0 MB)\n",
            "Collecting nvidia-nvtx-cu12==12.1.105 (from torch->torchviz)\n",
            "  Using cached nvidia_nvtx_cu12-12.1.105-py3-none-manylinux1_x86_64.whl (99 kB)\n",
            "Requirement already satisfied: triton==2.2.0 in /usr/local/lib/python3.10/dist-packages (from torch->torchviz) (2.2.0)\n",
            "Collecting nvidia-nvjitlink-cu12 (from nvidia-cusolver-cu12==11.4.5.107->torch->torchviz)\n",
            "  Using cached nvidia_nvjitlink_cu12-12.4.127-py3-none-manylinux2014_x86_64.whl (21.1 MB)\n",
            "Requirement already satisfied: MarkupSafe>=2.0 in /usr/local/lib/python3.10/dist-packages (from jinja2->torch->torchviz) (2.1.5)\n",
            "Requirement already satisfied: mpmath>=0.19 in /usr/local/lib/python3.10/dist-packages (from sympy->torch->torchviz) (1.3.0)\n",
            "Building wheels for collected packages: torchviz\n",
            "  Building wheel for torchviz (setup.py) ... \u001b[?25l\u001b[?25hdone\n",
            "  Created wheel for torchviz: filename=torchviz-0.0.2-py3-none-any.whl size=4132 sha256=636fb9ae5c87f35cc5ecb45746af8e088382576bd19a47cfdbc647c1360fe0cf\n",
            "  Stored in directory: /root/.cache/pip/wheels/4c/97/88/a02973217949e0db0c9f4346d154085f4725f99c4f15a87094\n",
            "Successfully built torchviz\n",
            "Installing collected packages: nvidia-nvtx-cu12, nvidia-nvjitlink-cu12, nvidia-nccl-cu12, nvidia-curand-cu12, nvidia-cufft-cu12, nvidia-cuda-runtime-cu12, nvidia-cuda-nvrtc-cu12, nvidia-cuda-cupti-cu12, nvidia-cublas-cu12, nvidia-cusparse-cu12, nvidia-cudnn-cu12, nvidia-cusolver-cu12, torchviz\n",
            "Successfully installed nvidia-cublas-cu12-12.1.3.1 nvidia-cuda-cupti-cu12-12.1.105 nvidia-cuda-nvrtc-cu12-12.1.105 nvidia-cuda-runtime-cu12-12.1.105 nvidia-cudnn-cu12-8.9.2.26 nvidia-cufft-cu12-11.0.2.54 nvidia-curand-cu12-10.3.2.106 nvidia-cusolver-cu12-11.4.5.107 nvidia-cusparse-cu12-12.1.0.106 nvidia-nccl-cu12-2.19.3 nvidia-nvjitlink-cu12-12.4.127 nvidia-nvtx-cu12-12.1.105 torchviz-0.0.2\n"
          ]
        }
      ],
      "source": [
        "import requests\n",
        "from io import BytesIO\n",
        "from zipfile import ZipFile\n",
        "import torch\n",
        "import torchvision\n",
        "from torchvision import datasets, transforms\n",
        "import matplotlib.pyplot as plt\n",
        "import numpy as np\n",
        "import torch.nn as nn\n",
        "import torch.nn.functional as F\n",
        "from torchsummary import summary\n",
        "from torch import optim\n",
        "from torch.optim.lr_scheduler import ReduceLROnPlateau\n",
        "import copy\n",
        "from tqdm.notebook import tqdm\n",
        "import seaborn as sns\n",
        "from sklearn.metrics import classification_report\n",
        "!pip install torchviz\n",
        "from torchviz import make_dot\n"
      ]
    },
    {
      "cell_type": "markdown",
      "metadata": {
        "id": "y9Bg1Sjz801Z"
      },
      "source": [
        "## Download the Dataset"
      ]
    },
    {
      "cell_type": "code",
      "execution_count": 2,
      "metadata": {
        "id": "4G0cvY55nnYv"
      },
      "outputs": [],
      "source": [
        "#Download the Dataset\n",
        "\n",
        "dataset_link = 'https://universe.roboflow.com/ds/34oBZCp0Y9?key=M2AxU6iuig'\n",
        "response = requests.get(dataset_link)\n",
        "zip_file = ZipFile(BytesIO(response.content))\n",
        "\n",
        "extracted_folder = '/dataset'\n",
        "zip_file.extractall(extracted_folder)"
      ]
    },
    {
      "cell_type": "markdown",
      "metadata": {
        "id": "Z6ZroeX09LQf"
      },
      "source": [
        "## Pre-processing Dataset\n",
        "\n",
        "\n"
      ]
    },
    {
      "cell_type": "code",
      "execution_count": 3,
      "metadata": {
        "id": "4XBiQYENuWQi"
      },
      "outputs": [],
      "source": [
        "transform_train = transforms.Compose(\n",
        "    [\n",
        "        transforms.Resize((224,224)),\n",
        "        # using such random flips, helps to increase variability in your training data, which can prevent overfitting and improve the model's ability to generalize to unseen data\n",
        "        transforms.RandomHorizontalFlip(p=0.5),\n",
        "        transforms.RandomVerticalFlip(p=0.5),\n",
        "        transforms.RandomRotation(30),\n",
        "        transforms.ToTensor(),\n",
        "        transforms.Normalize(mean = [0.485, 0.456, 0.406],std = [0.229, 0.224, 0.225])\n",
        "   ]\n",
        ")\n",
        "\n",
        "transform_test = transforms.Compose(\n",
        "    [\n",
        "         #all the images are currently 224 pixels but we can rezie later according to model accuracy to see if it makes any difference\n",
        "        transforms.Resize((224,224)),\n",
        "        transforms.ToTensor(),\n",
        "        transforms.Normalize(mean = [0.485, 0.456, 0.406],std = [0.229, 0.224, 0.225])\n",
        "   ]\n",
        ")"
      ]
    },
    {
      "cell_type": "code",
      "execution_count": 4,
      "metadata": {
        "colab": {
          "base_uri": "https://localhost:8080/"
        },
        "id": "L19Jm8Hyt3Wu",
        "outputId": "02970c06-8f1f-4401-e226-f21c99bcecb3"
      },
      "outputs": [
        {
          "output_type": "execute_result",
          "data": {
            "text/plain": [
              "Compose(\n",
              "    Resize(size=(224, 224), interpolation=bilinear, max_size=None, antialias=True)\n",
              "    ToTensor()\n",
              "    Normalize(mean=[0.485, 0.456, 0.406], std=[0.229, 0.224, 0.225])\n",
              ")"
            ]
          },
          "metadata": {},
          "execution_count": 4
        }
      ],
      "source": [
        "# Define object of the Train, Validation, and Test dataset.\n",
        "\n",
        "train_dataset = torchvision.datasets.ImageFolder(\"/dataset/train\", transform=transform_train)\n",
        "train_dataset.transform\n",
        "\n",
        "val_dataset = torchvision.datasets.ImageFolder(\"/dataset/valid\", transform=transform_test)\n",
        "val_dataset.transform\n",
        "\n",
        "test_dataset = torchvision.datasets.ImageFolder(\"/dataset/test\", transform=transform_test)\n",
        "test_dataset.transform"
      ]
    },
    {
      "cell_type": "markdown",
      "metadata": {
        "id": "Fc_eFNIaA0ap"
      },
      "source": [
        "## Creating DataLoaders"
      ]
    },
    {
      "cell_type": "code",
      "execution_count": 5,
      "metadata": {
        "id": "CUybSc9EzNa6"
      },
      "outputs": [],
      "source": [
        "# train set has 2076 images so can use greater batch size but valid and test have 531 and 231 so must use smaller batch size or there will be overfitting\n",
        "train_loader = torch.utils.data.DataLoader(train_dataset, batch_size = 100, shuffle = True)\n",
        "val_loader = torch.utils.data.DataLoader(val_dataset, batch_size = 64, shuffle = True)\n",
        "test_loader = torch.utils.data.DataLoader(test_dataset, batch_size = 64, shuffle = True)"
      ]
    },
    {
      "cell_type": "code",
      "execution_count": 6,
      "metadata": {
        "colab": {
          "base_uri": "https://localhost:8080/"
        },
        "id": "B2WKOcbSz5XB",
        "outputId": "09a025f5-f3ee-481a-91ba-4e6c04c97d2f"
      },
      "outputs": [
        {
          "output_type": "stream",
          "name": "stdout",
          "text": [
            "Training data:\n",
            "Shape of X : torch.Size([100, 3, 224, 224])\n",
            "Shape of y: torch.Size([100]) torch.int64\n",
            "\n",
            "Validation data:\n",
            "Shape of X : torch.Size([64, 3, 224, 224])\n",
            "Shape of y: torch.Size([64]) torch.int64\n",
            "\n"
          ]
        }
      ],
      "source": [
        "# Print shape of Dataset\n",
        "for key, value in {'Training data': train_loader, \"Validation data\": val_loader}.items():\n",
        "    for X, y in value:\n",
        "        print(f\"{key}:\")\n",
        "        print(f\"Shape of X : {X.shape}\")\n",
        "        print(f\"Shape of y: {y.shape} {y.dtype}\\n\")\n",
        "        break"
      ]
    },
    {
      "cell_type": "markdown",
      "metadata": {
        "id": "i4M386IZA93v"
      },
      "source": [
        "## Model Architectures"
      ]
    },
    {
      "cell_type": "code",
      "execution_count": 7,
      "metadata": {
        "id": "7h02e4i6euLX"
      },
      "outputs": [],
      "source": [
        "import torch.nn as nn\n",
        "import torch.nn.functional as F\n",
        "\n",
        "class ResidualBlock(nn.Module):\n",
        "    def __init__(self, in_channels, out_channels, stride=1):\n",
        "        super(ResidualBlock, self).__init__()\n",
        "        self.conv1 = nn.Conv2d(in_channels, out_channels, kernel_size=3, stride=stride, padding=1, bias=False)\n",
        "        self.bn1 = nn.BatchNorm2d(out_channels)\n",
        "        self.conv2 = nn.Conv2d(out_channels, out_channels, kernel_size=3, stride=1, padding=1, bias=False)\n",
        "        self.bn2 = nn.BatchNorm2d(out_channels)\n",
        "        self.relu = nn.ReLU(inplace=True)\n",
        "        self.stride = stride\n",
        "        self.shortcut = nn.Sequential()\n",
        "        if stride != 1 or in_channels != out_channels:\n",
        "            self.shortcut = nn.Sequential(\n",
        "                nn.Conv2d(in_channels, out_channels, kernel_size=1, stride=stride, bias=False),\n",
        "                nn.BatchNorm2d(out_channels)\n",
        "            )\n",
        "\n",
        "    def forward(self, x):\n",
        "        residual = x\n",
        "        out = self.conv1(x)\n",
        "        out = self.bn1(out)\n",
        "        out = self.relu(out)\n",
        "        out = self.conv2(out)\n",
        "        out = self.bn2(out)\n",
        "        out += self.shortcut(residual)\n",
        "        out = self.relu(out)\n",
        "        return out\n",
        "\n",
        "# Define the ResNet model\n",
        "class ResNet(nn.Module):\n",
        "    def __init__(self, num_classes):\n",
        "        super(ResNet, self).__init__()\n",
        "        self.in_channels = 64\n",
        "\n",
        "        # Initial convolutional layer\n",
        "        self.conv1 = nn.Conv2d(3, self.in_channels, kernel_size=7, stride=2, padding=3, bias=False)\n",
        "        self.bn1 = nn.BatchNorm2d(self.in_channels)\n",
        "        self.relu = nn.ReLU(inplace=True)\n",
        "        self.maxpool = nn.MaxPool2d(kernel_size=3, stride=2, padding=1)\n",
        "\n",
        "        # Residual blocks\n",
        "        self.layer1 = self.make_layer(ResidualBlock, 64, 2, stride=1)\n",
        "        self.layer2 = self.make_layer(ResidualBlock, 128, 2, stride=2)\n",
        "        self.layer3 = self.make_layer(ResidualBlock, 256, 2, stride=2)\n",
        "        self.layer4 = self.make_layer(ResidualBlock, 512, 2, stride=2)\n",
        "\n",
        "        # Fully connected layers\n",
        "        self.avg_pool = nn.AdaptiveAvgPool2d((1, 1))\n",
        "        self.fc = nn.Linear(512, num_classes)\n",
        "\n",
        "    def make_layer(self, block, out_channels, blocks, stride=1):\n",
        "        layers = []\n",
        "        layers.append(block(self.in_channels, out_channels, stride))\n",
        "        self.in_channels = out_channels\n",
        "        for _ in range(1, blocks):\n",
        "            layers.append(block(out_channels, out_channels))\n",
        "        return nn.Sequential(*layers)\n",
        "\n",
        "    def forward(self, x):\n",
        "        x = self.conv1(x)\n",
        "        x = self.bn1(x)\n",
        "        x = self.relu(x)\n",
        "        x = self.maxpool(x)\n",
        "        x = self.layer1(x)\n",
        "        x = self.layer2(x)\n",
        "        x = self.layer3(x)\n",
        "        x = self.layer4(x)\n",
        "        x = self.avg_pool(x)\n",
        "        x = x.view(x.size(0), -1)\n",
        "        x = self.fc(x)\n",
        "        return F.log_softmax(x, dim=1)\n"
      ]
    },
    {
      "cell_type": "code",
      "execution_count": 8,
      "metadata": {
        "id": "P7S1T4ajewja"
      },
      "outputs": [],
      "source": [
        "import torch\n",
        "import torch.nn as nn\n",
        "import torch.nn.functional as F\n",
        "from torchvision import models\n",
        "\n",
        "class GoogLeNet(nn.Module):\n",
        "    def __init__(self, num_classes, pretrained=True):\n",
        "        super(GoogLeNet, self).__init__()\n",
        "\n",
        "        # Load the pre-trained GoogLeNet model\n",
        "        self.googlenet = models.googlenet(pretrained=pretrained)\n",
        "\n",
        "        self.googlenet.fc = nn.Linear(1024, num_classes)\n",
        "\n",
        "    def forward(self, x):\n",
        "        return self.googlenet(x)\n",
        "\n"
      ]
    },
    {
      "cell_type": "code",
      "execution_count": 9,
      "metadata": {
        "id": "kNSUpsSYezTM"
      },
      "outputs": [],
      "source": [
        "import torch\n",
        "import torch.nn as nn\n",
        "import torch.nn.functional as F\n",
        "\n",
        "class CombinedModel(nn.Module):\n",
        "    def __init__(self, num_classes, pretrained=True):\n",
        "        super(CombinedModel, self).__init__()\n",
        "        self.googlenet = GoogLeNet(num_classes=num_classes, pretrained=pretrained)\n",
        "        self.resnet = ResNet(num_classes=num_classes)\n",
        "\n",
        "        # fusion layer to combine features from both models\n",
        "        self.fc_fusion = nn.Linear(2 * num_classes, num_classes)\n",
        "\n",
        "    def forward(self, x):\n",
        "\n",
        "        # features from GoogLeNet\n",
        "        googlenet_features = self.googlenet(x)\n",
        "        # features from ResNet\n",
        "        resnet_features = self.resnet(x)\n",
        "\n",
        "        # Concatenate the features\n",
        "        combined_features = torch.cat((googlenet_features, resnet_features), dim=1)\n",
        "\n",
        "        # Apply fusion layer\n",
        "        output = self.fc_fusion(combined_features)\n",
        "\n",
        "        return F.log_softmax(output, dim=1)\n",
        "\n"
      ]
    },
    {
      "cell_type": "markdown",
      "metadata": {
        "id": "CJABv7kzBdWS"
      },
      "source": [
        "## Instantiate Model"
      ]
    },
    {
      "cell_type": "code",
      "execution_count": null,
      "metadata": {
        "colab": {
          "base_uri": "https://localhost:8080/"
        },
        "id": "12IG6ruG5V43",
        "outputId": "5597b843-5374-4daf-d555-6605393c862f"
      },
      "outputs": [
        {
          "output_type": "stream",
          "name": "stderr",
          "text": [
            "/usr/local/lib/python3.10/dist-packages/torchvision/models/_utils.py:208: UserWarning: The parameter 'pretrained' is deprecated since 0.13 and may be removed in the future, please use 'weights' instead.\n",
            "  warnings.warn(\n",
            "/usr/local/lib/python3.10/dist-packages/torchvision/models/_utils.py:223: UserWarning: Arguments other than a weight enum or `None` for 'weights' are deprecated since 0.13 and may be removed in the future. The current behavior is equivalent to passing `weights=GoogLeNet_Weights.IMAGENET1K_V1`. You can also use `weights=GoogLeNet_Weights.DEFAULT` to get the most up-to-date weights.\n",
            "  warnings.warn(msg)\n",
            "Downloading: \"https://download.pytorch.org/models/googlenet-1378be20.pth\" to /root/.cache/torch/hub/checkpoints/googlenet-1378be20.pth\n",
            "100%|██████████| 49.7M/49.7M [00:00<00:00, 141MB/s]\n"
          ]
        }
      ],
      "source": [
        "params_model={\n",
        "        \"shape_in\": (3,224,224),\n",
        "        \"initial_filters\": 8,\n",
        "        \"num_fc1\": 100,\n",
        "        \"dropout_rate\": 0.15,\n",
        "        \"num_classes\": 5}\n",
        "\n",
        "combined_model = CombinedModel(num_classes=params_model[\"num_classes\"])"
      ]
    },
    {
      "cell_type": "code",
      "execution_count": null,
      "metadata": {
        "id": "MGctlFGe7ISV"
      },
      "outputs": [],
      "source": [
        "# define computation hardware approach (GPU/CPU)\n",
        "device = torch.device('cuda' if torch.cuda.is_available() else 'cpu')\n",
        "combined_model = combined_model.to(device)"
      ]
    },
    {
      "cell_type": "markdown",
      "metadata": {
        "id": "09gytqWXBlOE"
      },
      "source": [
        "## Visualise Model"
      ]
    },
    {
      "cell_type": "code",
      "execution_count": null,
      "metadata": {
        "colab": {
          "base_uri": "https://localhost:8080/"
        },
        "id": "z8BKRCU4LXM4",
        "outputId": "f0614aff-60f2-4b64-c266-9c16b24471ef"
      },
      "outputs": [
        {
          "output_type": "stream",
          "name": "stdout",
          "text": [
            "----------------------------------------------------------------\n",
            "        Layer (type)               Output Shape         Param #\n",
            "================================================================\n",
            "            Conv2d-1         [-1, 64, 112, 112]           9,408\n",
            "       BatchNorm2d-2         [-1, 64, 112, 112]             128\n",
            "       BasicConv2d-3         [-1, 64, 112, 112]               0\n",
            "         MaxPool2d-4           [-1, 64, 56, 56]               0\n",
            "            Conv2d-5           [-1, 64, 56, 56]           4,096\n",
            "       BatchNorm2d-6           [-1, 64, 56, 56]             128\n",
            "       BasicConv2d-7           [-1, 64, 56, 56]               0\n",
            "            Conv2d-8          [-1, 192, 56, 56]         110,592\n",
            "       BatchNorm2d-9          [-1, 192, 56, 56]             384\n",
            "      BasicConv2d-10          [-1, 192, 56, 56]               0\n",
            "        MaxPool2d-11          [-1, 192, 28, 28]               0\n",
            "           Conv2d-12           [-1, 64, 28, 28]          12,288\n",
            "      BatchNorm2d-13           [-1, 64, 28, 28]             128\n",
            "      BasicConv2d-14           [-1, 64, 28, 28]               0\n",
            "           Conv2d-15           [-1, 96, 28, 28]          18,432\n",
            "      BatchNorm2d-16           [-1, 96, 28, 28]             192\n",
            "      BasicConv2d-17           [-1, 96, 28, 28]               0\n",
            "           Conv2d-18          [-1, 128, 28, 28]         110,592\n",
            "      BatchNorm2d-19          [-1, 128, 28, 28]             256\n",
            "      BasicConv2d-20          [-1, 128, 28, 28]               0\n",
            "           Conv2d-21           [-1, 16, 28, 28]           3,072\n",
            "      BatchNorm2d-22           [-1, 16, 28, 28]              32\n",
            "      BasicConv2d-23           [-1, 16, 28, 28]               0\n",
            "           Conv2d-24           [-1, 32, 28, 28]           4,608\n",
            "      BatchNorm2d-25           [-1, 32, 28, 28]              64\n",
            "      BasicConv2d-26           [-1, 32, 28, 28]               0\n",
            "        MaxPool2d-27          [-1, 192, 28, 28]               0\n",
            "           Conv2d-28           [-1, 32, 28, 28]           6,144\n",
            "      BatchNorm2d-29           [-1, 32, 28, 28]              64\n",
            "      BasicConv2d-30           [-1, 32, 28, 28]               0\n",
            "        Inception-31          [-1, 256, 28, 28]               0\n",
            "           Conv2d-32          [-1, 128, 28, 28]          32,768\n",
            "      BatchNorm2d-33          [-1, 128, 28, 28]             256\n",
            "      BasicConv2d-34          [-1, 128, 28, 28]               0\n",
            "           Conv2d-35          [-1, 128, 28, 28]          32,768\n",
            "      BatchNorm2d-36          [-1, 128, 28, 28]             256\n",
            "      BasicConv2d-37          [-1, 128, 28, 28]               0\n",
            "           Conv2d-38          [-1, 192, 28, 28]         221,184\n",
            "      BatchNorm2d-39          [-1, 192, 28, 28]             384\n",
            "      BasicConv2d-40          [-1, 192, 28, 28]               0\n",
            "           Conv2d-41           [-1, 32, 28, 28]           8,192\n",
            "      BatchNorm2d-42           [-1, 32, 28, 28]              64\n",
            "      BasicConv2d-43           [-1, 32, 28, 28]               0\n",
            "           Conv2d-44           [-1, 96, 28, 28]          27,648\n",
            "      BatchNorm2d-45           [-1, 96, 28, 28]             192\n",
            "      BasicConv2d-46           [-1, 96, 28, 28]               0\n",
            "        MaxPool2d-47          [-1, 256, 28, 28]               0\n",
            "           Conv2d-48           [-1, 64, 28, 28]          16,384\n",
            "      BatchNorm2d-49           [-1, 64, 28, 28]             128\n",
            "      BasicConv2d-50           [-1, 64, 28, 28]               0\n",
            "        Inception-51          [-1, 480, 28, 28]               0\n",
            "        MaxPool2d-52          [-1, 480, 14, 14]               0\n",
            "           Conv2d-53          [-1, 192, 14, 14]          92,160\n",
            "      BatchNorm2d-54          [-1, 192, 14, 14]             384\n",
            "      BasicConv2d-55          [-1, 192, 14, 14]               0\n",
            "           Conv2d-56           [-1, 96, 14, 14]          46,080\n",
            "      BatchNorm2d-57           [-1, 96, 14, 14]             192\n",
            "      BasicConv2d-58           [-1, 96, 14, 14]               0\n",
            "           Conv2d-59          [-1, 208, 14, 14]         179,712\n",
            "      BatchNorm2d-60          [-1, 208, 14, 14]             416\n",
            "      BasicConv2d-61          [-1, 208, 14, 14]               0\n",
            "           Conv2d-62           [-1, 16, 14, 14]           7,680\n",
            "      BatchNorm2d-63           [-1, 16, 14, 14]              32\n",
            "      BasicConv2d-64           [-1, 16, 14, 14]               0\n",
            "           Conv2d-65           [-1, 48, 14, 14]           6,912\n",
            "      BatchNorm2d-66           [-1, 48, 14, 14]              96\n",
            "      BasicConv2d-67           [-1, 48, 14, 14]               0\n",
            "        MaxPool2d-68          [-1, 480, 14, 14]               0\n",
            "           Conv2d-69           [-1, 64, 14, 14]          30,720\n",
            "      BatchNorm2d-70           [-1, 64, 14, 14]             128\n",
            "      BasicConv2d-71           [-1, 64, 14, 14]               0\n",
            "        Inception-72          [-1, 512, 14, 14]               0\n",
            "           Conv2d-73          [-1, 160, 14, 14]          81,920\n",
            "      BatchNorm2d-74          [-1, 160, 14, 14]             320\n",
            "      BasicConv2d-75          [-1, 160, 14, 14]               0\n",
            "           Conv2d-76          [-1, 112, 14, 14]          57,344\n",
            "      BatchNorm2d-77          [-1, 112, 14, 14]             224\n",
            "      BasicConv2d-78          [-1, 112, 14, 14]               0\n",
            "           Conv2d-79          [-1, 224, 14, 14]         225,792\n",
            "      BatchNorm2d-80          [-1, 224, 14, 14]             448\n",
            "      BasicConv2d-81          [-1, 224, 14, 14]               0\n",
            "           Conv2d-82           [-1, 24, 14, 14]          12,288\n",
            "      BatchNorm2d-83           [-1, 24, 14, 14]              48\n",
            "      BasicConv2d-84           [-1, 24, 14, 14]               0\n",
            "           Conv2d-85           [-1, 64, 14, 14]          13,824\n",
            "      BatchNorm2d-86           [-1, 64, 14, 14]             128\n",
            "      BasicConv2d-87           [-1, 64, 14, 14]               0\n",
            "        MaxPool2d-88          [-1, 512, 14, 14]               0\n",
            "           Conv2d-89           [-1, 64, 14, 14]          32,768\n",
            "      BatchNorm2d-90           [-1, 64, 14, 14]             128\n",
            "      BasicConv2d-91           [-1, 64, 14, 14]               0\n",
            "        Inception-92          [-1, 512, 14, 14]               0\n",
            "           Conv2d-93          [-1, 128, 14, 14]          65,536\n",
            "      BatchNorm2d-94          [-1, 128, 14, 14]             256\n",
            "      BasicConv2d-95          [-1, 128, 14, 14]               0\n",
            "           Conv2d-96          [-1, 128, 14, 14]          65,536\n",
            "      BatchNorm2d-97          [-1, 128, 14, 14]             256\n",
            "      BasicConv2d-98          [-1, 128, 14, 14]               0\n",
            "           Conv2d-99          [-1, 256, 14, 14]         294,912\n",
            "     BatchNorm2d-100          [-1, 256, 14, 14]             512\n",
            "     BasicConv2d-101          [-1, 256, 14, 14]               0\n",
            "          Conv2d-102           [-1, 24, 14, 14]          12,288\n",
            "     BatchNorm2d-103           [-1, 24, 14, 14]              48\n",
            "     BasicConv2d-104           [-1, 24, 14, 14]               0\n",
            "          Conv2d-105           [-1, 64, 14, 14]          13,824\n",
            "     BatchNorm2d-106           [-1, 64, 14, 14]             128\n",
            "     BasicConv2d-107           [-1, 64, 14, 14]               0\n",
            "       MaxPool2d-108          [-1, 512, 14, 14]               0\n",
            "          Conv2d-109           [-1, 64, 14, 14]          32,768\n",
            "     BatchNorm2d-110           [-1, 64, 14, 14]             128\n",
            "     BasicConv2d-111           [-1, 64, 14, 14]               0\n",
            "       Inception-112          [-1, 512, 14, 14]               0\n",
            "          Conv2d-113          [-1, 112, 14, 14]          57,344\n",
            "     BatchNorm2d-114          [-1, 112, 14, 14]             224\n",
            "     BasicConv2d-115          [-1, 112, 14, 14]               0\n",
            "          Conv2d-116          [-1, 144, 14, 14]          73,728\n",
            "     BatchNorm2d-117          [-1, 144, 14, 14]             288\n",
            "     BasicConv2d-118          [-1, 144, 14, 14]               0\n",
            "          Conv2d-119          [-1, 288, 14, 14]         373,248\n",
            "     BatchNorm2d-120          [-1, 288, 14, 14]             576\n",
            "     BasicConv2d-121          [-1, 288, 14, 14]               0\n",
            "          Conv2d-122           [-1, 32, 14, 14]          16,384\n",
            "     BatchNorm2d-123           [-1, 32, 14, 14]              64\n",
            "     BasicConv2d-124           [-1, 32, 14, 14]               0\n",
            "          Conv2d-125           [-1, 64, 14, 14]          18,432\n",
            "     BatchNorm2d-126           [-1, 64, 14, 14]             128\n",
            "     BasicConv2d-127           [-1, 64, 14, 14]               0\n",
            "       MaxPool2d-128          [-1, 512, 14, 14]               0\n",
            "          Conv2d-129           [-1, 64, 14, 14]          32,768\n",
            "     BatchNorm2d-130           [-1, 64, 14, 14]             128\n",
            "     BasicConv2d-131           [-1, 64, 14, 14]               0\n",
            "       Inception-132          [-1, 528, 14, 14]               0\n",
            "          Conv2d-133          [-1, 256, 14, 14]         135,168\n",
            "     BatchNorm2d-134          [-1, 256, 14, 14]             512\n",
            "     BasicConv2d-135          [-1, 256, 14, 14]               0\n",
            "          Conv2d-136          [-1, 160, 14, 14]          84,480\n",
            "     BatchNorm2d-137          [-1, 160, 14, 14]             320\n",
            "     BasicConv2d-138          [-1, 160, 14, 14]               0\n",
            "          Conv2d-139          [-1, 320, 14, 14]         460,800\n",
            "     BatchNorm2d-140          [-1, 320, 14, 14]             640\n",
            "     BasicConv2d-141          [-1, 320, 14, 14]               0\n",
            "          Conv2d-142           [-1, 32, 14, 14]          16,896\n",
            "     BatchNorm2d-143           [-1, 32, 14, 14]              64\n",
            "     BasicConv2d-144           [-1, 32, 14, 14]               0\n",
            "          Conv2d-145          [-1, 128, 14, 14]          36,864\n",
            "     BatchNorm2d-146          [-1, 128, 14, 14]             256\n",
            "     BasicConv2d-147          [-1, 128, 14, 14]               0\n",
            "       MaxPool2d-148          [-1, 528, 14, 14]               0\n",
            "          Conv2d-149          [-1, 128, 14, 14]          67,584\n",
            "     BatchNorm2d-150          [-1, 128, 14, 14]             256\n",
            "     BasicConv2d-151          [-1, 128, 14, 14]               0\n",
            "       Inception-152          [-1, 832, 14, 14]               0\n",
            "       MaxPool2d-153            [-1, 832, 7, 7]               0\n",
            "          Conv2d-154            [-1, 256, 7, 7]         212,992\n",
            "     BatchNorm2d-155            [-1, 256, 7, 7]             512\n",
            "     BasicConv2d-156            [-1, 256, 7, 7]               0\n",
            "          Conv2d-157            [-1, 160, 7, 7]         133,120\n",
            "     BatchNorm2d-158            [-1, 160, 7, 7]             320\n",
            "     BasicConv2d-159            [-1, 160, 7, 7]               0\n",
            "          Conv2d-160            [-1, 320, 7, 7]         460,800\n",
            "     BatchNorm2d-161            [-1, 320, 7, 7]             640\n",
            "     BasicConv2d-162            [-1, 320, 7, 7]               0\n",
            "          Conv2d-163             [-1, 32, 7, 7]          26,624\n",
            "     BatchNorm2d-164             [-1, 32, 7, 7]              64\n",
            "     BasicConv2d-165             [-1, 32, 7, 7]               0\n",
            "          Conv2d-166            [-1, 128, 7, 7]          36,864\n",
            "     BatchNorm2d-167            [-1, 128, 7, 7]             256\n",
            "     BasicConv2d-168            [-1, 128, 7, 7]               0\n",
            "       MaxPool2d-169            [-1, 832, 7, 7]               0\n",
            "          Conv2d-170            [-1, 128, 7, 7]         106,496\n",
            "     BatchNorm2d-171            [-1, 128, 7, 7]             256\n",
            "     BasicConv2d-172            [-1, 128, 7, 7]               0\n",
            "       Inception-173            [-1, 832, 7, 7]               0\n",
            "          Conv2d-174            [-1, 384, 7, 7]         319,488\n",
            "     BatchNorm2d-175            [-1, 384, 7, 7]             768\n",
            "     BasicConv2d-176            [-1, 384, 7, 7]               0\n",
            "          Conv2d-177            [-1, 192, 7, 7]         159,744\n",
            "     BatchNorm2d-178            [-1, 192, 7, 7]             384\n",
            "     BasicConv2d-179            [-1, 192, 7, 7]               0\n",
            "          Conv2d-180            [-1, 384, 7, 7]         663,552\n",
            "     BatchNorm2d-181            [-1, 384, 7, 7]             768\n",
            "     BasicConv2d-182            [-1, 384, 7, 7]               0\n",
            "          Conv2d-183             [-1, 48, 7, 7]          39,936\n",
            "     BatchNorm2d-184             [-1, 48, 7, 7]              96\n",
            "     BasicConv2d-185             [-1, 48, 7, 7]               0\n",
            "          Conv2d-186            [-1, 128, 7, 7]          55,296\n",
            "     BatchNorm2d-187            [-1, 128, 7, 7]             256\n",
            "     BasicConv2d-188            [-1, 128, 7, 7]               0\n",
            "       MaxPool2d-189            [-1, 832, 7, 7]               0\n",
            "          Conv2d-190            [-1, 128, 7, 7]         106,496\n",
            "     BatchNorm2d-191            [-1, 128, 7, 7]             256\n",
            "     BasicConv2d-192            [-1, 128, 7, 7]               0\n",
            "       Inception-193           [-1, 1024, 7, 7]               0\n",
            "AdaptiveAvgPool2d-194           [-1, 1024, 1, 1]               0\n",
            "         Dropout-195                 [-1, 1024]               0\n",
            "          Linear-196                    [-1, 5]           5,125\n",
            "       GoogLeNet-197                    [-1, 5]               0\n",
            "       GoogLeNet-198                    [-1, 5]               0\n",
            "          Conv2d-199         [-1, 64, 112, 112]           9,408\n",
            "     BatchNorm2d-200         [-1, 64, 112, 112]             128\n",
            "            ReLU-201         [-1, 64, 112, 112]               0\n",
            "       MaxPool2d-202           [-1, 64, 56, 56]               0\n",
            "          Conv2d-203           [-1, 64, 56, 56]          36,864\n",
            "     BatchNorm2d-204           [-1, 64, 56, 56]             128\n",
            "            ReLU-205           [-1, 64, 56, 56]               0\n",
            "          Conv2d-206           [-1, 64, 56, 56]          36,864\n",
            "     BatchNorm2d-207           [-1, 64, 56, 56]             128\n",
            "            ReLU-208           [-1, 64, 56, 56]               0\n",
            "   ResidualBlock-209           [-1, 64, 56, 56]               0\n",
            "          Conv2d-210           [-1, 64, 56, 56]          36,864\n",
            "     BatchNorm2d-211           [-1, 64, 56, 56]             128\n",
            "            ReLU-212           [-1, 64, 56, 56]               0\n",
            "          Conv2d-213           [-1, 64, 56, 56]          36,864\n",
            "     BatchNorm2d-214           [-1, 64, 56, 56]             128\n",
            "            ReLU-215           [-1, 64, 56, 56]               0\n",
            "   ResidualBlock-216           [-1, 64, 56, 56]               0\n",
            "          Conv2d-217          [-1, 128, 28, 28]          73,728\n",
            "     BatchNorm2d-218          [-1, 128, 28, 28]             256\n",
            "            ReLU-219          [-1, 128, 28, 28]               0\n",
            "          Conv2d-220          [-1, 128, 28, 28]         147,456\n",
            "     BatchNorm2d-221          [-1, 128, 28, 28]             256\n",
            "          Conv2d-222          [-1, 128, 28, 28]           8,192\n",
            "     BatchNorm2d-223          [-1, 128, 28, 28]             256\n",
            "            ReLU-224          [-1, 128, 28, 28]               0\n",
            "   ResidualBlock-225          [-1, 128, 28, 28]               0\n",
            "          Conv2d-226          [-1, 128, 28, 28]         147,456\n",
            "     BatchNorm2d-227          [-1, 128, 28, 28]             256\n",
            "            ReLU-228          [-1, 128, 28, 28]               0\n",
            "          Conv2d-229          [-1, 128, 28, 28]         147,456\n",
            "     BatchNorm2d-230          [-1, 128, 28, 28]             256\n",
            "            ReLU-231          [-1, 128, 28, 28]               0\n",
            "   ResidualBlock-232          [-1, 128, 28, 28]               0\n",
            "          Conv2d-233          [-1, 256, 14, 14]         294,912\n",
            "     BatchNorm2d-234          [-1, 256, 14, 14]             512\n",
            "            ReLU-235          [-1, 256, 14, 14]               0\n",
            "          Conv2d-236          [-1, 256, 14, 14]         589,824\n",
            "     BatchNorm2d-237          [-1, 256, 14, 14]             512\n",
            "          Conv2d-238          [-1, 256, 14, 14]          32,768\n",
            "     BatchNorm2d-239          [-1, 256, 14, 14]             512\n",
            "            ReLU-240          [-1, 256, 14, 14]               0\n",
            "   ResidualBlock-241          [-1, 256, 14, 14]               0\n",
            "          Conv2d-242          [-1, 256, 14, 14]         589,824\n",
            "     BatchNorm2d-243          [-1, 256, 14, 14]             512\n",
            "            ReLU-244          [-1, 256, 14, 14]               0\n",
            "          Conv2d-245          [-1, 256, 14, 14]         589,824\n",
            "     BatchNorm2d-246          [-1, 256, 14, 14]             512\n",
            "            ReLU-247          [-1, 256, 14, 14]               0\n",
            "   ResidualBlock-248          [-1, 256, 14, 14]               0\n",
            "          Conv2d-249            [-1, 512, 7, 7]       1,179,648\n",
            "     BatchNorm2d-250            [-1, 512, 7, 7]           1,024\n",
            "            ReLU-251            [-1, 512, 7, 7]               0\n",
            "          Conv2d-252            [-1, 512, 7, 7]       2,359,296\n",
            "     BatchNorm2d-253            [-1, 512, 7, 7]           1,024\n",
            "          Conv2d-254            [-1, 512, 7, 7]         131,072\n",
            "     BatchNorm2d-255            [-1, 512, 7, 7]           1,024\n",
            "            ReLU-256            [-1, 512, 7, 7]               0\n",
            "   ResidualBlock-257            [-1, 512, 7, 7]               0\n",
            "          Conv2d-258            [-1, 512, 7, 7]       2,359,296\n",
            "     BatchNorm2d-259            [-1, 512, 7, 7]           1,024\n",
            "            ReLU-260            [-1, 512, 7, 7]               0\n",
            "          Conv2d-261            [-1, 512, 7, 7]       2,359,296\n",
            "     BatchNorm2d-262            [-1, 512, 7, 7]           1,024\n",
            "            ReLU-263            [-1, 512, 7, 7]               0\n",
            "   ResidualBlock-264            [-1, 512, 7, 7]               0\n",
            "AdaptiveAvgPool2d-265            [-1, 512, 1, 1]               0\n",
            "          Linear-266                    [-1, 5]           2,565\n",
            "          ResNet-267                    [-1, 5]               0\n",
            "          Linear-268                    [-1, 5]              55\n",
            "================================================================\n",
            "Total params: 16,784,161\n",
            "Trainable params: 16,784,161\n",
            "Non-trainable params: 0\n",
            "----------------------------------------------------------------\n",
            "Input size (MB): 0.57\n",
            "Forward/backward pass size (MB): 156.88\n",
            "Params size (MB): 64.03\n",
            "Estimated Total Size (MB): 221.48\n",
            "----------------------------------------------------------------\n"
          ]
        }
      ],
      "source": [
        "# Model Summary\n",
        "summary(combined_model, input_size=(3, 224, 224),device=device.type)"
      ]
    },
    {
      "cell_type": "code",
      "execution_count": null,
      "metadata": {
        "colab": {
          "base_uri": "https://localhost:8080/",
          "height": 36
        },
        "id": "IQzMQZw2BwOv",
        "outputId": "5fa52266-ee22-442d-e172-3c083cb33036"
      },
      "outputs": [
        {
          "output_type": "execute_result",
          "data": {
            "text/plain": [
              "'combined_model_visualization.pdf'"
            ],
            "application/vnd.google.colaboratory.intrinsic+json": {
              "type": "string"
            }
          },
          "metadata": {},
          "execution_count": 26
        }
      ],
      "source": [
        "#visualise the model in an image form\n",
        "\n",
        "device = torch.device(\"cuda\" if torch.cuda.is_available() else \"cpu\")\n",
        "combined_model.to(device)\n",
        "\n",
        "input_tensor = torch.randn(1, 3, 224, 224, device=device)\n",
        "\n",
        "dot = make_dot(combined_model(input_tensor), params=dict(combined_model.named_parameters()))\n",
        "\n",
        "dot.render(\"combined_model_visualization\", format=\"pdf\")"
      ]
    },
    {
      "cell_type": "markdown",
      "metadata": {
        "id": "a7jm6maADQwB"
      },
      "source": [
        "## Define Optimizer and Loss Function"
      ]
    },
    {
      "cell_type": "code",
      "execution_count": null,
      "metadata": {
        "id": "js3SWZD7LiLF"
      },
      "outputs": [],
      "source": [
        "loss_func = nn.CrossEntropyLoss()"
      ]
    },
    {
      "cell_type": "code",
      "execution_count": null,
      "metadata": {
        "colab": {
          "base_uri": "https://localhost:8080/"
        },
        "id": "7qvZP4vRL0ea",
        "outputId": "f82b81be-d5f7-4bfa-a500-86205d7fd505"
      },
      "outputs": [
        {
          "output_type": "stream",
          "name": "stderr",
          "text": [
            "/usr/local/lib/python3.10/dist-packages/torch/optim/lr_scheduler.py:28: UserWarning: The verbose parameter is deprecated. Please use get_last_lr() to access the learning rate.\n",
            "  warnings.warn(\"The verbose parameter is deprecated. Please use get_last_lr() \"\n"
          ]
        }
      ],
      "source": [
        "opt = optim.Adam(combined_model.parameters(), lr=1e-3)\n",
        "\n",
        "lr_scheduler = ReduceLROnPlateau(opt, mode='min',factor=0.5, patience=20,verbose=1)"
      ]
    },
    {
      "cell_type": "markdown",
      "metadata": {
        "id": "aZDYGwDYDr2n"
      },
      "source": [
        "## Train Model"
      ]
    },
    {
      "cell_type": "code",
      "execution_count": null,
      "metadata": {
        "id": "4MqDieV7de3m"
      },
      "outputs": [],
      "source": [
        "# Function to get the learning rate\n",
        "def get_lr(opt):\n",
        "    for param_group in opt.param_groups:\n",
        "        return param_group['lr']\n",
        "\n",
        "# Function to compute the loss value per batch of data\n",
        "def loss_batch(loss_func, output, target, opt=None):\n",
        "\n",
        "    loss = loss_func(output, target) # get loss\n",
        "    pred = output.argmax(dim=1, keepdim=True) # Get Output Class\n",
        "    metric_b=pred.eq(target.view_as(pred)).sum().item() # get performance metric\n",
        "\n",
        "    if opt is not None:\n",
        "        opt.zero_grad()\n",
        "        loss.backward()\n",
        "        opt.step()\n",
        "\n",
        "    return loss.item(), metric_b\n",
        "\n",
        "# Compute the loss value & performance metric for epoch\n",
        "def loss_epoch(model,loss_func,dataset_dl,opt=None):\n",
        "\n",
        "    run_loss=0.0\n",
        "    t_metric=0.0\n",
        "    len_data=len(dataset_dl.dataset)\n",
        "\n",
        "    for xb, yb in dataset_dl:\n",
        "        xb=xb.to(device)\n",
        "        yb=yb.to(device)\n",
        "        output=model(xb)\n",
        "        loss_b,metric_b=loss_batch(loss_func, output, yb, opt)\n",
        "        run_loss+=loss_b\n",
        "\n",
        "        if metric_b is not None:\n",
        "            t_metric+=metric_b\n",
        "\n",
        "    loss=run_loss/float(len_data)\n",
        "    metric=t_metric/float(len_data)\n",
        "\n",
        "    return loss, metric"
      ]
    },
    {
      "cell_type": "code",
      "execution_count": null,
      "metadata": {
        "id": "ao6M3dBXMcha"
      },
      "outputs": [],
      "source": [
        "def train_val(model, params, verbose=False):\n",
        "\n",
        "    # Get the parameters\n",
        "    epochs=params[\"epochs\"]\n",
        "    loss_func=params[\"f_loss\"]\n",
        "    opt=params[\"optimiser\"]\n",
        "    train_dl=params[\"train\"]\n",
        "    val_dl=params[\"val\"]\n",
        "    lr_scheduler=params[\"lr_change\"]\n",
        "    weight_path=params[\"weight_path\"]\n",
        "\n",
        "    loss_history={\"train\": [],\"val\": []}\n",
        "    metric_history={\"train\": [],\"val\": []}\n",
        "    best_model_wts = copy.deepcopy(model.state_dict())\n",
        "    best_loss=float('inf')\n",
        "\n",
        "\n",
        "    for epoch in tqdm(range(epochs)):\n",
        "\n",
        "        # Get the Learning Rate\n",
        "        current_lr = get_lr(opt)\n",
        "        if(verbose):\n",
        "            print('Epoch {}/{}, current lr={}'.format(epoch, epochs - 1, current_lr))\n",
        "\n",
        "\n",
        "\n",
        "\n",
        "        model.train()\n",
        "        train_loss, train_metric = loss_epoch(model,loss_func,train_dl,opt)\n",
        "\n",
        "        loss_history[\"train\"].append(train_loss)\n",
        "        metric_history[\"train\"].append(train_metric)\n",
        "\n",
        "\n",
        "# Evaluate Model Process\n",
        "\n",
        "        model.eval()\n",
        "        with torch.no_grad():\n",
        "            val_loss, val_metric = loss_epoch(model,loss_func,val_dl)\n",
        "\n",
        "        if(val_loss < best_loss):\n",
        "            best_loss = val_loss\n",
        "            best_model_wts = copy.deepcopy(model.state_dict())\n",
        "\n",
        "            torch.save(model.state_dict(), weight_path)\n",
        "            if(verbose):\n",
        "                print(\"Copied best model weights!\")\n",
        "\n",
        "        loss_history[\"val\"].append(val_loss)\n",
        "        metric_history[\"val\"].append(val_metric)\n",
        "\n",
        "        lr_scheduler.step(val_loss)\n",
        "        if current_lr != get_lr(opt):\n",
        "            if(verbose):\n",
        "                print(\"Loading best model weights!\")\n",
        "            model.load_state_dict(best_model_wts)\n",
        "\n",
        "        if(verbose):\n",
        "            print(f\"train loss: {train_loss:.6f}, dev loss: {val_loss:.6f}, accuracy: {100*val_metric:.2f}\")\n",
        "            print(\"-\"*10)\n",
        "\n",
        "    model.load_state_dict(best_model_wts)\n",
        "\n",
        "    return model, loss_history, metric_history"
      ]
    },
    {
      "cell_type": "code",
      "execution_count": null,
      "metadata": {
        "colab": {
          "base_uri": "https://localhost:8080/",
          "height": 49,
          "referenced_widgets": [
            "5ed10b7fd21d4c79bf7129cb8a318d46",
            "2011f3ad709b4fc4b17897556a0770fe",
            "34bcd2195bb7403f93cd37d37937936d",
            "8c4b8eda1fd94bbb81470656dc9e40b2",
            "5807c6ba34874b65beb6686c66fd18c4",
            "a7811bb5385d4d3baac75c862d27aa44",
            "a1871cc8e9e64d3a8a4f53535510725a",
            "9b7178009bb34845982d86e6bbd29c8f",
            "2cf5ece4205148938ab5a38c14d34036",
            "8d876215aa44459a8593fc5886d814a2",
            "06e2981124f54ac2af6f24c57cfdc396"
          ]
        },
        "id": "BAfKhTd4bV7A",
        "outputId": "4a82b7b2-cb26-4990-8786-8932c4b4c77a"
      },
      "outputs": [
        {
          "output_type": "display_data",
          "data": {
            "text/plain": [
              "  0%|          | 0/80 [00:00<?, ?it/s]"
            ],
            "application/vnd.jupyter.widget-view+json": {
              "version_major": 2,
              "version_minor": 0,
              "model_id": "5ed10b7fd21d4c79bf7129cb8a318d46"
            }
          },
          "metadata": {}
        }
      ],
      "source": [
        "params_train={\n",
        " \"train\": train_loader,\"val\": val_loader,\n",
        " \"epochs\": 80,\n",
        " \"optimiser\": optim.Adam(combined_model.parameters(),lr=1e-3),\n",
        " \"lr_change\": ReduceLROnPlateau(opt, mode='min',factor=0.5, patience=20,verbose=1),\n",
        " \"f_loss\": nn.CrossEntropyLoss(),\n",
        " \"weight_path\": \"weights.pt\",\n",
        "}\n",
        "\n",
        "# train and validate the model\n",
        "model,loss_hist_m,metric_hist_m = train_val(combined_model,params_train)"
      ]
    },
    {
      "cell_type": "markdown",
      "metadata": {
        "id": "3L6VmJt2EBq4"
      },
      "source": [
        "## Generate Convergance Plots"
      ]
    },
    {
      "cell_type": "code",
      "execution_count": null,
      "metadata": {
        "colab": {
          "base_uri": "https://localhost:8080/",
          "height": 450
        },
        "id": "TRRJ2PmrbiSX",
        "outputId": "0d1f6885-6417-47d1-ff56-e18dd3987416"
      },
      "outputs": [
        {
          "output_type": "display_data",
          "data": {
            "text/plain": [
              "<Figure size 1200x500 with 2 Axes>"
            ],
            "image/png": "[encoded data removed]"
          },
          "metadata": {}
        }
      ],
      "source": [
        "epochs=params_train[\"epochs\"]\n",
        "fig,ax = plt.subplots(1,2,figsize=(12,5))\n",
        "\n",
        "sns.lineplot(x=[*range(1,epochs+1)],y=loss_hist_m[\"train\"],ax=ax[0],label='loss_hist[\"train\"]')\n",
        "sns.lineplot(x=[*range(1,epochs+1)],y=loss_hist_m[\"val\"],ax=ax[0],label='loss_hist[\"val\"]')\n",
        "sns.lineplot(x=[*range(1,epochs+1)],y=metric_hist_m[\"train\"],ax=ax[1],label='Acc_hist[\"train\"]')\n",
        "sns.lineplot(x=[*range(1,epochs+1)],y=metric_hist_m[\"val\"],ax=ax[1],label='Acc_hist[\"val\"]')\n",
        "\n",
        "plt.savefig(\"combined_model_convergence_hist_plot.png\")"
      ]
    },
    {
      "cell_type": "markdown",
      "metadata": {
        "id": "-T2WAGbOFLRJ"
      },
      "source": [
        "## Classification Report for Training Dataset"
      ]
    },
    {
      "cell_type": "code",
      "execution_count": null,
      "metadata": {
        "id": "NExsdQlKfWVj"
      },
      "outputs": [],
      "source": [
        "def ture_and_pred_data(val_loader, model):\n",
        "    i = 0\n",
        "    y_true = []\n",
        "    y_pred = []\n",
        "    for images, labels in val_loader:\n",
        "        images = images.to(device)\n",
        "        labels = labels.numpy()\n",
        "        outputs = model(images)\n",
        "        _, pred = torch.max(outputs.data, 1)\n",
        "        pred = pred.detach().cpu().numpy()\n",
        "\n",
        "        y_true = np.append(y_true, labels)\n",
        "        y_pred = np.append(y_pred, pred)\n",
        "\n",
        "    return y_true, y_pred"
      ]
    },
    {
      "cell_type": "code",
      "execution_count": null,
      "metadata": {
        "colab": {
          "base_uri": "https://localhost:8080/"
        },
        "id": "xr-hW-1LfZdE",
        "outputId": "96835e60-4921-43eb-f7f2-6a8c2139a622"
      },
      "outputs": [
        {
          "output_type": "stream",
          "name": "stdout",
          "text": [
            "              precision    recall  f1-score   support\n",
            "\n",
            "         0.0       0.73      0.46      0.56       217\n",
            "         1.0       0.73      0.85      0.78       563\n",
            "         2.0       0.98      0.98      0.98      1026\n",
            "         3.0       0.65      0.53      0.58       166\n",
            "         4.0       0.46      0.55      0.50       104\n",
            "\n",
            "    accuracy                           0.83      2076\n",
            "   macro avg       0.71      0.67      0.68      2076\n",
            "weighted avg       0.83      0.83      0.83      2076\n",
            " \n",
            "\n",
            "\n"
          ]
        }
      ],
      "source": [
        "# Classification Report for Model based on Train Set\n",
        "\n",
        "y_true, y_pred = ture_and_pred_data(train_loader, combined_model)\n",
        "print(classification_report(y_true, y_pred), '\\n\\n')"
      ]
    },
    {
      "cell_type": "markdown",
      "metadata": {
        "id": "0xd3JNGfFVOc"
      },
      "source": [
        "## Classification Report for Validation Dataset"
      ]
    },
    {
      "cell_type": "code",
      "execution_count": null,
      "metadata": {
        "colab": {
          "base_uri": "https://localhost:8080/"
        },
        "id": "mhEySLRifbe1",
        "outputId": "942f09e1-7c4a-4f37-8fa3-619a178852d3"
      },
      "outputs": [
        {
          "output_type": "stream",
          "name": "stdout",
          "text": [
            "              precision    recall  f1-score   support\n",
            "\n",
            "         0.0       0.64      0.28      0.39        57\n",
            "         1.0       0.70      0.79      0.74       138\n",
            "         2.0       0.96      0.99      0.97       286\n",
            "         3.0       0.58      0.45      0.51        31\n",
            "         4.0       0.29      0.47      0.36        19\n",
            "\n",
            "    accuracy                           0.81       531\n",
            "   macro avg       0.63      0.60      0.60       531\n",
            "weighted avg       0.81      0.81      0.80       531\n",
            " \n",
            "\n",
            "\n"
          ]
        }
      ],
      "source": [
        " # Classification Report for Model based on Validation Set\n",
        "\n",
        "y_true, y_pred = ture_and_pred_data(val_loader, combined_model)\n",
        "print(classification_report(y_true, y_pred), '\\n\\n')"
      ]
    },
    {
      "cell_type": "markdown",
      "metadata": {
        "id": "pBhvild2FgTX"
      },
      "source": [
        "## Save the Model"
      ]
    },
    {
      "cell_type": "code",
      "execution_count": null,
      "metadata": {
        "id": "m-K_ga05f5Nk"
      },
      "outputs": [],
      "source": [
        "torch.save(combined_model, \"Combined_Model.pt\")"
      ]
    },
    {
      "cell_type": "markdown",
      "metadata": {
        "id": "kMuwjumbFdUc"
      },
      "source": [
        "## Evaluate model on Test Dataset"
      ]
    },
    {
      "cell_type": "code",
      "execution_count": 10,
      "metadata": {
        "id": "CX6xrRUPgBcQ"
      },
      "outputs": [],
      "source": [
        "# Load the pretrained model\n",
        "model = torch.load(\"/content/combined_model2.pt\") #change to your file path\n",
        "\n",
        "device = torch.device(\"cuda\" if torch.cuda.is_available() else \"cpu\")\n",
        "model = model.to(device)"
      ]
    },
    {
      "cell_type": "code",
      "source": [
        "# This cell is repeated for running the pretrained model and making the predictions on the test set\n",
        "def ture_and_pred_data(val_loader, model):\n",
        "    i = 0\n",
        "    y_true = []\n",
        "    y_pred = []\n",
        "    for images, labels in val_loader:\n",
        "        images = images.to(device)\n",
        "        labels = labels.numpy()\n",
        "        outputs = model(images)\n",
        "        _, pred = torch.max(outputs.data, 1)\n",
        "        pred = pred.detach().cpu().numpy()\n",
        "\n",
        "        y_true = np.append(y_true, labels)\n",
        "        y_pred = np.append(y_pred, pred)\n",
        "\n",
        "    return y_true, y_pred"
      ],
      "metadata": {
        "id": "ImDyk7cC0232"
      },
      "execution_count": 11,
      "outputs": []
    },
    {
      "cell_type": "code",
      "execution_count": 12,
      "metadata": {
        "id": "U0MSosljF8Ow",
        "colab": {
          "base_uri": "https://localhost:8080/"
        },
        "outputId": "cce30a73-ec46-434d-8342-6562990a46fe"
      },
      "outputs": [
        {
          "output_type": "stream",
          "name": "stdout",
          "text": [
            "Predicted class: 1\n",
            "Predicted class: 2\n",
            "Predicted class: 1\n",
            "Predicted class: 2\n",
            "Predicted class: 3\n",
            "Predicted class: 1\n",
            "Predicted class: 1\n",
            "Predicted class: 2\n",
            "Predicted class: 4\n",
            "Predicted class: 2\n",
            "Predicted class: 2\n",
            "Predicted class: 2\n",
            "Predicted class: 2\n",
            "Predicted class: 1\n",
            "Predicted class: 1\n",
            "Predicted class: 2\n",
            "Predicted class: 1\n",
            "Predicted class: 1\n",
            "Predicted class: 1\n",
            "Predicted class: 2\n",
            "Predicted class: 4\n",
            "Predicted class: 1\n",
            "Predicted class: 2\n",
            "Predicted class: 2\n",
            "Predicted class: 2\n",
            "Predicted class: 2\n",
            "Predicted class: 3\n",
            "Predicted class: 2\n",
            "Predicted class: 2\n",
            "Predicted class: 2\n",
            "Predicted class: 1\n",
            "Predicted class: 2\n",
            "Predicted class: 2\n",
            "Predicted class: 2\n",
            "Predicted class: 2\n",
            "Predicted class: 0\n",
            "Predicted class: 3\n",
            "Predicted class: 1\n",
            "Predicted class: 2\n",
            "Predicted class: 2\n",
            "Predicted class: 1\n",
            "Predicted class: 2\n",
            "Predicted class: 2\n",
            "Predicted class: 1\n",
            "Predicted class: 2\n",
            "Predicted class: 2\n",
            "Predicted class: 2\n",
            "Predicted class: 2\n",
            "Predicted class: 0\n",
            "Predicted class: 0\n",
            "Predicted class: 2\n",
            "Predicted class: 0\n",
            "Predicted class: 2\n",
            "Predicted class: 2\n",
            "Predicted class: 1\n",
            "Predicted class: 2\n",
            "Predicted class: 2\n",
            "Predicted class: 2\n",
            "Predicted class: 1\n",
            "Predicted class: 2\n",
            "Predicted class: 2\n",
            "Predicted class: 0\n",
            "Predicted class: 1\n",
            "Predicted class: 1\n",
            "Predicted class: 2\n",
            "Predicted class: 1\n",
            "Predicted class: 2\n",
            "Predicted class: 1\n",
            "Predicted class: 1\n",
            "Predicted class: 1\n",
            "Predicted class: 1\n",
            "Predicted class: 2\n",
            "Predicted class: 1\n",
            "Predicted class: 1\n",
            "Predicted class: 3\n",
            "Predicted class: 2\n",
            "Predicted class: 2\n",
            "Predicted class: 2\n",
            "Predicted class: 2\n",
            "Predicted class: 1\n",
            "Predicted class: 1\n",
            "Predicted class: 2\n",
            "Predicted class: 2\n",
            "Predicted class: 1\n",
            "Predicted class: 2\n",
            "Predicted class: 2\n",
            "Predicted class: 1\n",
            "Predicted class: 1\n",
            "Predicted class: 1\n",
            "Predicted class: 2\n",
            "Predicted class: 1\n",
            "Predicted class: 1\n",
            "Predicted class: 2\n",
            "Predicted class: 1\n",
            "Predicted class: 3\n",
            "Predicted class: 2\n",
            "Predicted class: 2\n",
            "Predicted class: 0\n",
            "Predicted class: 2\n",
            "Predicted class: 2\n",
            "Predicted class: 0\n",
            "Predicted class: 2\n",
            "Predicted class: 2\n",
            "Predicted class: 0\n",
            "Predicted class: 1\n",
            "Predicted class: 2\n",
            "Predicted class: 0\n",
            "Predicted class: 1\n",
            "Predicted class: 2\n",
            "Predicted class: 1\n",
            "Predicted class: 4\n",
            "Predicted class: 2\n",
            "Predicted class: 1\n",
            "Predicted class: 1\n",
            "Predicted class: 2\n",
            "Predicted class: 2\n",
            "Predicted class: 1\n",
            "Predicted class: 0\n",
            "Predicted class: 2\n",
            "Predicted class: 0\n",
            "Predicted class: 1\n",
            "Predicted class: 1\n",
            "Predicted class: 1\n",
            "Predicted class: 2\n",
            "Predicted class: 2\n",
            "Predicted class: 1\n",
            "Predicted class: 2\n",
            "Predicted class: 1\n",
            "Predicted class: 3\n",
            "Predicted class: 2\n",
            "Predicted class: 2\n",
            "Predicted class: 2\n",
            "Predicted class: 1\n",
            "Predicted class: 0\n",
            "Predicted class: 0\n",
            "Predicted class: 1\n",
            "Predicted class: 1\n",
            "Predicted class: 2\n",
            "Predicted class: 1\n",
            "Predicted class: 2\n",
            "Predicted class: 4\n",
            "Predicted class: 2\n",
            "Predicted class: 2\n",
            "Predicted class: 2\n",
            "Predicted class: 1\n",
            "Predicted class: 2\n",
            "Predicted class: 2\n",
            "Predicted class: 1\n",
            "Predicted class: 2\n",
            "Predicted class: 1\n",
            "Predicted class: 1\n",
            "Predicted class: 2\n",
            "Predicted class: 0\n",
            "Predicted class: 2\n",
            "Predicted class: 2\n",
            "Predicted class: 3\n",
            "Predicted class: 2\n",
            "Predicted class: 2\n",
            "Predicted class: 2\n",
            "Predicted class: 2\n",
            "Predicted class: 2\n",
            "Predicted class: 2\n",
            "Predicted class: 2\n",
            "Predicted class: 1\n",
            "Predicted class: 2\n",
            "Predicted class: 0\n",
            "Predicted class: 0\n",
            "Predicted class: 2\n",
            "Predicted class: 1\n",
            "Predicted class: 2\n",
            "Predicted class: 2\n",
            "Predicted class: 1\n",
            "Predicted class: 2\n",
            "Predicted class: 0\n",
            "Predicted class: 0\n",
            "Predicted class: 1\n",
            "Predicted class: 2\n",
            "Predicted class: 2\n",
            "Predicted class: 3\n",
            "Predicted class: 1\n",
            "Predicted class: 2\n",
            "Predicted class: 2\n",
            "Predicted class: 1\n",
            "Predicted class: 2\n",
            "Predicted class: 2\n",
            "Predicted class: 2\n",
            "Predicted class: 2\n",
            "Predicted class: 0\n",
            "Predicted class: 0\n",
            "Predicted class: 1\n",
            "Predicted class: 2\n",
            "Predicted class: 2\n",
            "Predicted class: 1\n",
            "Predicted class: 2\n",
            "Predicted class: 0\n",
            "Predicted class: 3\n",
            "Predicted class: 2\n",
            "Predicted class: 2\n",
            "Predicted class: 2\n",
            "Predicted class: 1\n",
            "Predicted class: 0\n",
            "Predicted class: 2\n",
            "Predicted class: 0\n",
            "Predicted class: 1\n",
            "Predicted class: 1\n",
            "Predicted class: 2\n",
            "Predicted class: 1\n",
            "Predicted class: 2\n",
            "Predicted class: 2\n",
            "Predicted class: 0\n",
            "Predicted class: 1\n",
            "Predicted class: 1\n",
            "Predicted class: 1\n",
            "Predicted class: 2\n",
            "Predicted class: 1\n",
            "Predicted class: 2\n",
            "Predicted class: 3\n",
            "Predicted class: 2\n",
            "Predicted class: 1\n",
            "Predicted class: 2\n",
            "Predicted class: 1\n",
            "Predicted class: 3\n",
            "Predicted class: 2\n",
            "Predicted class: 2\n",
            "Predicted class: 0\n",
            "Predicted class: 1\n",
            "Predicted class: 2\n",
            "Predicted class: 2\n",
            "Predicted class: 2\n",
            "Predicted class: 1\n",
            "Predicted class: 2\n"
          ]
        }
      ],
      "source": [
        "# Iterate over the test loader for prediction\n",
        "\n",
        "with torch.no_grad():\n",
        "    for images, _ in test_loader:\n",
        "\n",
        "        images = images.to(device)\n",
        "        output = model(images)\n",
        "        probabilities = torch.softmax(output, dim=1)\n",
        "        predicted_classes = torch.argmax(probabilities, dim=1)\n",
        "\n",
        "        for predicted_class in predicted_classes:\n",
        "            print(\"Predicted class:\", predicted_class.item())"
      ]
    },
    {
      "cell_type": "code",
      "execution_count": 13,
      "metadata": {
        "colab": {
          "base_uri": "https://localhost:8080/"
        },
        "id": "mo6CHBgvgXCz",
        "outputId": "4f0478d2-5d38-4827-99ff-87c297cd4bb3"
      },
      "outputs": [
        {
          "output_type": "stream",
          "name": "stdout",
          "text": [
            "              precision    recall  f1-score   support\n",
            "\n",
            "         0.0       0.56      0.70      0.62        20\n",
            "         1.0       0.74      0.83      0.78        65\n",
            "         2.0       0.98      0.98      0.98       118\n",
            "         3.0       0.82      0.45      0.58        20\n",
            "         4.0       0.25      0.12      0.17         8\n",
            "\n",
            "    accuracy                           0.84       231\n",
            "   macro avg       0.67      0.62      0.63       231\n",
            "weighted avg       0.84      0.84      0.83       231\n",
            " \n",
            "\n",
            "\n"
          ]
        }
      ],
      "source": [
        "## Classification Report for Model based on Test set\n",
        "\n",
        "y_true, y_pred = ture_and_pred_data(test_loader, model)\n",
        "print(classification_report(y_true, y_pred), '\\n\\n')"
      ]
    }
  ],
  "metadata": {
    "accelerator": "GPU",
    "colab": {
      "gpuType": "T4",
      "provenance": []
    },
    "kernelspec": {
      "display_name": "Python 3",
      "name": "python3"
    },
    "language_info": {
      "name": "python"
    },
    "widgets": {
      "application/vnd.jupyter.widget-state+json": {
        "5ed10b7fd21d4c79bf7129cb8a318d46": {
          "model_module": "@jupyter-widgets/controls",
          "model_name": "HBoxModel",
          "model_module_version": "1.5.0",
          "state": {
            "_dom_classes": [],
            "_model_module": "@jupyter-widgets/controls",
            "_model_module_version": "1.5.0",
            "_model_name": "HBoxModel",
            "_view_count": null,
            "_view_module": "@jupyter-widgets/controls",
            "_view_module_version": "1.5.0",
            "_view_name": "HBoxView",
            "box_style": "",
            "children": [
              "IPY_MODEL_2011f3ad709b4fc4b17897556a0770fe",
              "IPY_MODEL_34bcd2195bb7403f93cd37d37937936d",
              "IPY_MODEL_8c4b8eda1fd94bbb81470656dc9e40b2"
            ],
            "layout": "IPY_MODEL_5807c6ba34874b65beb6686c66fd18c4"
          }
        },
        "2011f3ad709b4fc4b17897556a0770fe": {
          "model_module": "@jupyter-widgets/controls",
          "model_name": "HTMLModel",
          "model_module_version": "1.5.0",
          "state": {
            "_dom_classes": [],
            "_model_module": "@jupyter-widgets/controls",
            "_model_module_version": "1.5.0",
            "_model_name": "HTMLModel",
            "_view_count": null,
            "_view_module": "@jupyter-widgets/controls",
            "_view_module_version": "1.5.0",
            "_view_name": "HTMLView",
            "description": "",
            "description_tooltip": null,
            "layout": "IPY_MODEL_a7811bb5385d4d3baac75c862d27aa44",
            "placeholder": "​",
            "style": "IPY_MODEL_a1871cc8e9e64d3a8a4f53535510725a",
            "value": "100%"
          }
        },
        "34bcd2195bb7403f93cd37d37937936d": {
          "model_module": "@jupyter-widgets/controls",
          "model_name": "FloatProgressModel",
          "model_module_version": "1.5.0",
          "state": {
            "_dom_classes": [],
            "_model_module": "@jupyter-widgets/controls",
            "_model_module_version": "1.5.0",
            "_model_name": "FloatProgressModel",
            "_view_count": null,
            "_view_module": "@jupyter-widgets/controls",
            "_view_module_version": "1.5.0",
            "_view_name": "ProgressView",
            "bar_style": "success",
            "description": "",
            "description_tooltip": null,
            "layout": "IPY_MODEL_9b7178009bb34845982d86e6bbd29c8f",
            "max": 80,
            "min": 0,
            "orientation": "horizontal",
            "style": "IPY_MODEL_2cf5ece4205148938ab5a38c14d34036",
            "value": 80
          }
        },
        "8c4b8eda1fd94bbb81470656dc9e40b2": {
          "model_module": "@jupyter-widgets/controls",
          "model_name": "HTMLModel",
          "model_module_version": "1.5.0",
          "state": {
            "_dom_classes": [],
            "_model_module": "@jupyter-widgets/controls",
            "_model_module_version": "1.5.0",
            "_model_name": "HTMLModel",
            "_view_count": null,
            "_view_module": "@jupyter-widgets/controls",
            "_view_module_version": "1.5.0",
            "_view_name": "HTMLView",
            "description": "",
            "description_tooltip": null,
            "layout": "IPY_MODEL_8d876215aa44459a8593fc5886d814a2",
            "placeholder": "​",
            "style": "IPY_MODEL_06e2981124f54ac2af6f24c57cfdc396",
            "value": " 80/80 [26:21&lt;00:00, 19.57s/it]"
          }
        },
        "5807c6ba34874b65beb6686c66fd18c4": {
          "model_module": "@jupyter-widgets/base",
          "model_name": "LayoutModel",
          "model_module_version": "1.2.0",
          "state": {
            "_model_module": "@jupyter-widgets/base",
            "_model_module_version": "1.2.0",
            "_model_name": "LayoutModel",
            "_view_count": null,
            "_view_module": "@jupyter-widgets/base",
            "_view_module_version": "1.2.0",
            "_view_name": "LayoutView",
            "align_content": null,
            "align_items": null,
            "align_self": null,
            "border": null,
            "bottom": null,
            "display": null,
            "flex": null,
            "flex_flow": null,
            "grid_area": null,
            "grid_auto_columns": null,
            "grid_auto_flow": null,
            "grid_auto_rows": null,
            "grid_column": null,
            "grid_gap": null,
            "grid_row": null,
            "grid_template_areas": null,
            "grid_template_columns": null,
            "grid_template_rows": null,
            "height": null,
            "justify_content": null,
            "justify_items": null,
            "left": null,
            "margin": null,
            "max_height": null,
            "max_width": null,
            "min_height": null,
            "min_width": null,
            "object_fit": null,
            "object_position": null,
            "order": null,
            "overflow": null,
            "overflow_x": null,
            "overflow_y": null,
            "padding": null,
            "right": null,
            "top": null,
            "visibility": null,
            "width": null
          }
        },
        "a7811bb5385d4d3baac75c862d27aa44": {
          "model_module": "@jupyter-widgets/base",
          "model_name": "LayoutModel",
          "model_module_version": "1.2.0",
          "state": {
            "_model_module": "@jupyter-widgets/base",
            "_model_module_version": "1.2.0",
            "_model_name": "LayoutModel",
            "_view_count": null,
            "_view_module": "@jupyter-widgets/base",
            "_view_module_version": "1.2.0",
            "_view_name": "LayoutView",
            "align_content": null,
            "align_items": null,
            "align_self": null,
            "border": null,
            "bottom": null,
            "display": null,
            "flex": null,
            "flex_flow": null,
            "grid_area": null,
            "grid_auto_columns": null,
            "grid_auto_flow": null,
            "grid_auto_rows": null,
            "grid_column": null,
            "grid_gap": null,
            "grid_row": null,
            "grid_template_areas": null,
            "grid_template_columns": null,
            "grid_template_rows": null,
            "height": null,
            "justify_content": null,
            "justify_items": null,
            "left": null,
            "margin": null,
            "max_height": null,
            "max_width": null,
            "min_height": null,
            "min_width": null,
            "object_fit": null,
            "object_position": null,
            "order": null,
            "overflow": null,
            "overflow_x": null,
            "overflow_y": null,
            "padding": null,
            "right": null,
            "top": null,
            "visibility": null,
            "width": null
          }
        },
        "a1871cc8e9e64d3a8a4f53535510725a": {
          "model_module": "@jupyter-widgets/controls",
          "model_name": "DescriptionStyleModel",
          "model_module_version": "1.5.0",
          "state": {
            "_model_module": "@jupyter-widgets/controls",
            "_model_module_version": "1.5.0",
            "_model_name": "DescriptionStyleModel",
            "_view_count": null,
            "_view_module": "@jupyter-widgets/base",
            "_view_module_version": "1.2.0",
            "_view_name": "StyleView",
            "description_width": ""
          }
        },
        "9b7178009bb34845982d86e6bbd29c8f": {
          "model_module": "@jupyter-widgets/base",
          "model_name": "LayoutModel",
          "model_module_version": "1.2.0",
          "state": {
            "_model_module": "@jupyter-widgets/base",
            "_model_module_version": "1.2.0",
            "_model_name": "LayoutModel",
            "_view_count": null,
            "_view_module": "@jupyter-widgets/base",
            "_view_module_version": "1.2.0",
            "_view_name": "LayoutView",
            "align_content": null,
            "align_items": null,
            "align_self": null,
            "border": null,
            "bottom": null,
            "display": null,
            "flex": null,
            "flex_flow": null,
            "grid_area": null,
            "grid_auto_columns": null,
            "grid_auto_flow": null,
            "grid_auto_rows": null,
            "grid_column": null,
            "grid_gap": null,
            "grid_row": null,
            "grid_template_areas": null,
            "grid_template_columns": null,
            "grid_template_rows": null,
            "height": null,
            "justify_content": null,
            "justify_items": null,
            "left": null,
            "margin": null,
            "max_height": null,
            "max_width": null,
            "min_height": null,
            "min_width": null,
            "object_fit": null,
            "object_position": null,
            "order": null,
            "overflow": null,
            "overflow_x": null,
            "overflow_y": null,
            "padding": null,
            "right": null,
            "top": null,
            "visibility": null,
            "width": null
          }
        },
        "2cf5ece4205148938ab5a38c14d34036": {
          "model_module": "@jupyter-widgets/controls",
          "model_name": "ProgressStyleModel",
          "model_module_version": "1.5.0",
          "state": {
            "_model_module": "@jupyter-widgets/controls",
            "_model_module_version": "1.5.0",
            "_model_name": "ProgressStyleModel",
            "_view_count": null,
            "_view_module": "@jupyter-widgets/base",
            "_view_module_version": "1.2.0",
            "_view_name": "StyleView",
            "bar_color": null,
            "description_width": ""
          }
        },
        "8d876215aa44459a8593fc5886d814a2": {
          "model_module": "@jupyter-widgets/base",
          "model_name": "LayoutModel",
          "model_module_version": "1.2.0",
          "state": {
            "_model_module": "@jupyter-widgets/base",
            "_model_module_version": "1.2.0",
            "_model_name": "LayoutModel",
            "_view_count": null,
            "_view_module": "@jupyter-widgets/base",
            "_view_module_version": "1.2.0",
            "_view_name": "LayoutView",
            "align_content": null,
            "align_items": null,
            "align_self": null,
            "border": null,
            "bottom": null,
            "display": null,
            "flex": null,
            "flex_flow": null,
            "grid_area": null,
            "grid_auto_columns": null,
            "grid_auto_flow": null,
            "grid_auto_rows": null,
            "grid_column": null,
            "grid_gap": null,
            "grid_row": null,
            "grid_template_areas": null,
            "grid_template_columns": null,
            "grid_template_rows": null,
            "height": null,
            "justify_content": null,
            "justify_items": null,
            "left": null,
            "margin": null,
            "max_height": null,
            "max_width": null,
            "min_height": null,
            "min_width": null,
            "object_fit": null,
            "object_position": null,
            "order": null,
            "overflow": null,
            "overflow_x": null,
            "overflow_y": null,
            "padding": null,
            "right": null,
            "top": null,
            "visibility": null,
            "width": null
          }
        },
        "06e2981124f54ac2af6f24c57cfdc396": {
          "model_module": "@jupyter-widgets/controls",
          "model_name": "DescriptionStyleModel",
          "model_module_version": "1.5.0",
          "state": {
            "_model_module": "@jupyter-widgets/controls",
            "_model_module_version": "1.5.0",
            "_model_name": "DescriptionStyleModel",
            "_view_count": null,
            "_view_module": "@jupyter-widgets/base",
            "_view_module_version": "1.2.0",
            "_view_name": "StyleView",
            "description_width": ""
          }
        }
      }
    }
  },
  "nbformat": 4,
  "nbformat_minor": 0
}